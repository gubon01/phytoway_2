{
 "cells": [
  {
   "cell_type": "code",
   "execution_count": 1,
   "metadata": {},
   "outputs": [],
   "source": [
    "import requests\n",
    "import psycopg2\n",
    "from datetime import datetime, timedelta\n",
    "import time"
   ]
  },
  {
   "cell_type": "code",
   "execution_count": 2,
   "metadata": {},
   "outputs": [],
   "source": [
    "start_date = datetime.strptime(\"2023-07-17\", \"%Y-%m-%d\")\n",
    "end_date = datetime.strptime(\"2023-07-17\", \"%Y-%m-%d\")\n",
    "\n",
    "date_list = []\n",
    "current_date = start_date\n",
    "\n",
    "while current_date <= end_date:\n",
    "    formatted_date = current_date.strftime(\"%Y-%m-%d\")\n",
    "    date_list.append(formatted_date)\n",
    "    current_date += timedelta(days=1)\n"
   ]
  },
  {
   "cell_type": "code",
   "execution_count": 3,
   "metadata": {},
   "outputs": [],
   "source": [
    "job_list = ['arrange', 'in', 'out', 'retin', 'retout', 'trans', 'SHOP_REQ']\n",
    "# arrange 조정\n",
    "# in 입고\n",
    "# out 출고\n",
    "# retin 반품입고\n",
    "# retout 반품출고\n",
    "# trans 배송처리\n",
    "# SHOP_REQ 매장출고"
   ]
  },
  {
   "cell_type": "code",
   "execution_count": 4,
   "metadata": {},
   "outputs": [],
   "source": [
    "def get_stock_log(start_date, end_date, job, page):\n",
    "\n",
    "\n",
    "    partner_key = '73c6ac2e3366905793ab35d5a222d572'\n",
    "    domain_key = '73c6ac2e33669057718abd505d76aa87366d3eed6643997457a0f9a03797aa9f'\n",
    "    # start_date = '2023-01-01'\n",
    "    # end_date = '2023-05-21'\n",
    "    # job = 'in'\n",
    "    limit = '100'\n",
    "    \n",
    "\n",
    "    url = f'http://api2.cloud.ezadmin.co.kr/ezadmin/function.php?partner_key={partner_key}&domain_key={domain_key}&action=get_stock_tx_info&start_date={start_date}&end_date={end_date}&job={job}&page={page}&limit={limit}'\n",
    "    res = requests.get(url)\n",
    "\n",
    "    if res.status_code == 200:\n",
    "        return res.json()['data']\n",
    "    else:\n",
    "        return ValueError\n"
   ]
  },
  {
   "cell_type": "code",
   "execution_count": 5,
   "metadata": {},
   "outputs": [],
   "source": [
    "def save_stock_log(cursor, data_list):\n",
    "\n",
    "    query = \"\"\"\n",
    "        INSERT INTO \"stock_log\" (seq, crdate, product_id, job, qty, stock, bad, owner, memo, supply_code, supply_price, name, options, barcode, origin, brand, enable_sale, org_price, org_price_qty, order_seq, sheet, sheet_name, product_memo) \n",
    "        VALUES (%s, %s, %s, %s, %s, %s, %s, %s, %s, %s, %s, %s, %s, %s, %s, %s, %s, %s, %s, %s, %s, %s, %s) \n",
    "        ON CONFLICT (seq) DO UPDATE \n",
    "        SET crdate = EXCLUDED.crdate, product_id = EXCLUDED.product_id, job = EXCLUDED.job, qty = EXCLUDED.qty, stock = EXCLUDED.stock, \n",
    "            bad = EXCLUDED.bad, owner = EXCLUDED.owner, memo = EXCLUDED.memo, supply_code = EXCLUDED.supply_code, \n",
    "            supply_price = EXCLUDED.supply_price, name = EXCLUDED.name, options = EXCLUDED.options, barcode = EXCLUDED.barcode, \n",
    "            origin = EXCLUDED.origin, brand = EXCLUDED.brand, enable_sale = EXCLUDED.enable_sale, org_price = EXCLUDED.org_price, \n",
    "            org_price_qty = EXCLUDED.org_price_qty, order_seq = EXCLUDED.order_seq, sheet = EXCLUDED.sheet, \n",
    "            sheet_name = EXCLUDED.sheet_name, product_memo = EXCLUDED.product_memo;\n",
    "    \"\"\"\n",
    "\n",
    "    for d in data_list:\n",
    "        cursor.execute(query, d)\n"
   ]
  },
  {
   "cell_type": "code",
   "execution_count": 6,
   "metadata": {},
   "outputs": [
    {
     "name": "stdout",
     "output_type": "stream",
     "text": [
      "2023-07-17 | arrange | 1\n",
      "2023-07-17 | in | 1\n",
      "2023-07-17 | out | 1\n",
      "2023-07-17 | retin | 1\n",
      "2023-07-17 | retout | 1\n",
      "2023-07-17 | trans | 1\n",
      "2023-07-17 | trans | 2\n",
      "2023-07-17 | trans | 3\n",
      "2023-07-17 | trans | 4\n",
      "2023-07-17 | trans | 5\n",
      "2023-07-17 | trans | 6\n",
      "2023-07-17 | trans | 7\n",
      "2023-07-17 | trans | 8\n",
      "2023-07-17 | trans | 9\n",
      "2023-07-17 | trans | 10\n",
      "2023-07-17 | trans | 11\n",
      "2023-07-17 | SHOP_REQ | 1\n"
     ]
    }
   ],
   "source": [
    "conn = psycopg2.connect(host='115.68.228.168', user='postgres', password='cldngks', dbname='phytogether', port=5432)\n",
    "cursor = conn.cursor()\n",
    "\n",
    "\n",
    "for date in date_list:\n",
    "    for job in job_list:\n",
    "        page = 1\n",
    "        data = ['init']\n",
    "        while len(data) > 0:\n",
    "            data = get_stock_log(date, date, job, str(page))\n",
    "            data_list = [list(d.values()) for d in data]\n",
    "            save_stock_log(cursor, data_list)\n",
    "            # time.sleep(3)\n",
    "            print(date + ' | ' + job + ' | ' + str(page))\n",
    "            page += 1\n",
    "\n",
    "\n",
    "conn.commit()\n",
    "conn.close()"
   ]
  }
 ],
 "metadata": {
  "kernelspec": {
   "display_name": "Python 3",
   "language": "python",
   "name": "python3"
  },
  "language_info": {
   "codemirror_mode": {
    "name": "ipython",
    "version": 3
   },
   "file_extension": ".py",
   "mimetype": "text/x-python",
   "name": "python",
   "nbconvert_exporter": "python",
   "pygments_lexer": "ipython3",
   "version": "3.8.10"
  },
  "orig_nbformat": 4
 },
 "nbformat": 4,
 "nbformat_minor": 2
}
