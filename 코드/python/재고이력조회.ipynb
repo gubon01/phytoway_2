{
 "cells": [
  {
   "cell_type": "code",
   "execution_count": 1,
   "metadata": {},
   "outputs": [],
   "source": [
    "import requests\n",
    "import psycopg2\n",
    "from datetime import datetime, timedelta\n",
    "import time"
   ]
  },
  {
   "cell_type": "code",
   "execution_count": 2,
   "metadata": {},
   "outputs": [],
   "source": [
<<<<<<< HEAD
    "start_date = datetime.strptime(\"2023-06-09\", \"%Y-%m-%d\")\n",
    "end_date = datetime.strptime(\"2023-06-11\", \"%Y-%m-%d\")\n",
=======
    "start_date = datetime.strptime(\"2023-06-02\", \"%Y-%m-%d\")\n",
    "end_date = datetime.strptime(\"2023-06-04\", \"%Y-%m-%d\")\n",
>>>>>>> 9c806a00602c3c7335f80e6ee71e08ceb9a7bbe8
    "\n",
    "date_list = []\n",
    "current_date = start_date\n",
    "\n",
    "while current_date <= end_date:\n",
    "    formatted_date = current_date.strftime(\"%Y-%m-%d\")\n",
    "    date_list.append(formatted_date)\n",
    "    current_date += timedelta(days=1)\n"
   ]
  },
  {
   "cell_type": "code",
   "execution_count": 3,
   "metadata": {},
   "outputs": [],
   "source": [
    "job_list = ['arrange', 'in', 'out', 'retin', 'retout', 'trans', 'SHOP_REQ']\n",
    "# arrange 조정\n",
    "# in 입고\n",
    "# out 출고\n",
    "# retin 반품입고\n",
    "# retout 반품출고\n",
    "# trans 배송처리\n",
    "# SHOP_REQ 매장출고"
   ]
  },
  {
   "cell_type": "code",
   "execution_count": 4,
   "metadata": {},
   "outputs": [],
   "source": [
    "def get_stock_log(start_date, end_date, job, page):\n",
    "\n",
    "\n",
    "    partner_key = '73c6ac2e3366905793ab35d5a222d572'\n",
    "    domain_key = '73c6ac2e33669057718abd505d76aa87366d3eed6643997457a0f9a03797aa9f'\n",
    "    # start_date = '2023-01-01'\n",
    "    # end_date = '2023-05-21'\n",
    "    # job = 'in'\n",
    "    limit = '100'\n",
    "    \n",
    "\n",
    "    url = f'http://api2.cloud.ezadmin.co.kr/ezadmin/function.php?partner_key={partner_key}&domain_key={domain_key}&action=get_stock_tx_info&start_date={start_date}&end_date={end_date}&job={job}&page={page}&limit={limit}'\n",
    "    res = requests.get(url)\n",
    "\n",
    "    if res.status_code == 200:\n",
    "        return res.json()['data']\n",
    "    else:\n",
    "        return ValueError\n"
   ]
  },
  {
   "cell_type": "code",
   "execution_count": 5,
   "metadata": {},
   "outputs": [],
   "source": [
    "def save_stock_log(cursor, data_list):\n",
    "\n",
    "    query = \"\"\"\n",
    "        INSERT INTO \"stock_log\" (seq, crdate, product_id, job, qty, stock, bad, owner, memo, supply_code, supply_price, name, options, barcode, origin, brand, enable_sale, org_price, org_price_qty, order_seq, sheet, sheet_name, product_memo) \n",
    "        VALUES (%s, %s, %s, %s, %s, %s, %s, %s, %s, %s, %s, %s, %s, %s, %s, %s, %s, %s, %s, %s, %s, %s, %s) \n",
    "        ON CONFLICT (seq) DO UPDATE \n",
    "        SET crdate = EXCLUDED.crdate, product_id = EXCLUDED.product_id, job = EXCLUDED.job, qty = EXCLUDED.qty, stock = EXCLUDED.stock, \n",
    "            bad = EXCLUDED.bad, owner = EXCLUDED.owner, memo = EXCLUDED.memo, supply_code = EXCLUDED.supply_code, \n",
    "            supply_price = EXCLUDED.supply_price, name = EXCLUDED.name, options = EXCLUDED.options, barcode = EXCLUDED.barcode, \n",
    "            origin = EXCLUDED.origin, brand = EXCLUDED.brand, enable_sale = EXCLUDED.enable_sale, org_price = EXCLUDED.org_price, \n",
    "            org_price_qty = EXCLUDED.org_price_qty, order_seq = EXCLUDED.order_seq, sheet = EXCLUDED.sheet, \n",
    "            sheet_name = EXCLUDED.sheet_name, product_memo = EXCLUDED.product_memo;\n",
    "    \"\"\"\n",
    "\n",
    "    for d in data_list:\n",
    "        cursor.execute(query, d)\n"
   ]
  },
  {
   "cell_type": "code",
   "execution_count": 6,
   "metadata": {},
   "outputs": [
    {
     "name": "stdout",
     "output_type": "stream",
     "text": [
<<<<<<< HEAD
      "2023-06-09 | arrange | 1\n",
      "2023-06-09 | in | 1\n",
      "2023-06-09 | out | 1\n",
      "2023-06-09 | retin | 1\n",
      "2023-06-09 | retout | 1\n",
      "2023-06-09 | trans | 1\n",
      "2023-06-09 | trans | 2\n",
      "2023-06-09 | trans | 3\n",
      "2023-06-09 | trans | 4\n",
      "2023-06-09 | trans | 5\n",
      "2023-06-09 | trans | 6\n",
      "2023-06-09 | trans | 7\n",
      "2023-06-09 | SHOP_REQ | 1\n",
      "2023-06-10 | arrange | 1\n",
      "2023-06-10 | in | 1\n",
      "2023-06-10 | out | 1\n",
      "2023-06-10 | retin | 1\n",
      "2023-06-10 | retout | 1\n",
      "2023-06-10 | trans | 1\n",
      "2023-06-10 | SHOP_REQ | 1\n",
      "2023-06-11 | arrange | 1\n",
      "2023-06-11 | in | 1\n",
      "2023-06-11 | out | 1\n",
      "2023-06-11 | retin | 1\n",
      "2023-06-11 | retout | 1\n",
      "2023-06-11 | trans | 1\n",
      "2023-06-11 | SHOP_REQ | 1\n"
=======
      "2023-06-02 | arrange | 1\n",
      "2023-06-02 | in | 1\n",
      "2023-06-02 | in | 2\n",
      "2023-06-02 | out | 1\n",
      "2023-06-02 | retin | 1\n",
      "2023-06-02 | retout | 1\n",
      "2023-06-02 | trans | 1\n",
      "2023-06-02 | trans | 2\n",
      "2023-06-02 | trans | 3\n",
      "2023-06-02 | trans | 4\n",
      "2023-06-02 | trans | 5\n",
      "2023-06-02 | trans | 6\n",
      "2023-06-02 | trans | 7\n",
      "2023-06-02 | trans | 8\n",
      "2023-06-02 | trans | 9\n",
      "2023-06-02 | SHOP_REQ | 1\n",
      "2023-06-03 | arrange | 1\n",
      "2023-06-03 | in | 1\n",
      "2023-06-03 | out | 1\n",
      "2023-06-03 | retin | 1\n",
      "2023-06-03 | retout | 1\n",
      "2023-06-03 | trans | 1\n",
      "2023-06-03 | SHOP_REQ | 1\n",
      "2023-06-04 | arrange | 1\n",
      "2023-06-04 | in | 1\n",
      "2023-06-04 | out | 1\n",
      "2023-06-04 | retin | 1\n",
      "2023-06-04 | retout | 1\n",
      "2023-06-04 | trans | 1\n",
      "2023-06-04 | SHOP_REQ | 1\n"
>>>>>>> 9c806a00602c3c7335f80e6ee71e08ceb9a7bbe8
     ]
    }
   ],
   "source": [
    "conn = psycopg2.connect(host='115.68.228.168', user='postgres', password='cldngks', dbname='phytogether', port=5432)\n",
    "cursor = conn.cursor()\n",
    "\n",
    "\n",
    "for date in date_list:\n",
    "    for job in job_list:\n",
    "        page = 1\n",
    "        data = ['data']\n",
    "        while len(data) > 0:\n",
    "            data = get_stock_log(date, date, job, str(page))\n",
    "            data_list = [list(d.values()) for d in data]\n",
    "            save_stock_log(cursor, data_list)\n",
    "            # time.sleep(3)\n",
    "            print(date + ' | ' + job + ' | ' + str(page))\n",
    "            page += 1\n",
    "\n",
    "\n",
    "conn.commit()\n",
    "conn.close()"
   ]
  }
 ],
 "metadata": {
  "kernelspec": {
   "display_name": "Python 3",
   "language": "python",
   "name": "python3"
  },
  "language_info": {
   "codemirror_mode": {
    "name": "ipython",
    "version": 3
   },
   "file_extension": ".py",
   "mimetype": "text/x-python",
   "name": "python",
   "nbconvert_exporter": "python",
   "pygments_lexer": "ipython3",
   "version": "3.11.2"
  },
  "orig_nbformat": 4
 },
 "nbformat": 4,
 "nbformat_minor": 2
}
