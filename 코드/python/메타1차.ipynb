{
 "cells": [
  {
   "cell_type": "code",
   "execution_count": 3,
   "metadata": {},
   "outputs": [
    {
     "name": "stdout",
     "output_type": "stream",
     "text": [
      "[<AdAccount> {\n",
      "    \"account_id\": \"2262440287401635\",\n",
      "    \"id\": \"act_2262440287401635\"\n",
      "}, <AdAccount> {\n",
      "    \"account_id\": \"252130562447858\",\n",
      "    \"id\": \"act_252130562447858\"\n",
      "}, <AdAccount> {\n",
      "    \"account_id\": \"179572480898721\",\n",
      "    \"id\": \"act_179572480898721\"\n",
      "}, <AdAccount> {\n",
      "    \"account_id\": \"1001912123901937\",\n",
      "    \"id\": \"act_1001912123901937\"\n",
      "}, <AdAccount> {\n",
      "    \"account_id\": \"578146190393834\",\n",
      "    \"id\": \"act_578146190393834\"\n",
      "}]\n"
     ]
    }
   ],
   "source": [
    "from facebook_business.adobjects.adaccount import AdAccount\n",
    "from facebook_business.adobjects.adsinsights import AdsInsights\n",
    "from facebook_business.api import FacebookAdsApi\n",
    "from facebook_business.adobjects.user import User\n",
    "from facebook_business.adobjects.campaign import Campaign\n",
    "from facebook_business.adobjects.ad import Ad\n",
    "from facebook_business.adobjects.adimage import AdImage\n",
    "from facebook_business.adobjects.adcreative import AdCreative\n",
    "from tqdm import tqdm_notebook\n",
    "import datetime\n",
    "import pandas as pd\n",
    "\n",
    "# 페이스북 개발자 페이지에서 비지니스 앱 생성후 \n",
    "# 마케팅 api 추가하여 권한 설정후 토큰 발급 받기\n",
    "access_token = 'EAAC6R52Q8wIBAFvOqxoUGcy6NZABb3UjYm2qiEP2twIq54EPruCAjpOAEBM58RI1TEXiGmGmVfi8aOHQDrSvXgUdx9gbZAAw7xYPRK8J6i2qFKchCYcfzCHhS5fmuam7wMwL2w1Aw6cZCD6DE8lkFLvitYHzP64T0rfmf2GhnDMiVLCj7Ft '\n",
    "app_secret = 'f0f1c03eff0f90ea299817d3db8f408f'\n",
    "app_id = '204816748966658'\n",
    "\n",
    "FacebookAdsApi.init(app_id, app_secret, access_token)\n",
    "\n",
    "me = User(fbid='me')\n",
    "my_accounts = list(me.get_ad_accounts())\n",
    "print(my_accounts) "
   ]
  },
  {
   "cell_type": "code",
   "execution_count": 10,
   "metadata": {},
   "outputs": [
    {
     "name": "stderr",
     "output_type": "stream",
     "text": [
      "C:\\Users\\user\\AppData\\Local\\Temp\\ipykernel_18440\\3787067319.py:28: TqdmDeprecationWarning: This function will be removed in tqdm==5.0.0\n",
      "Please use `tqdm.notebook.tqdm` instead of `tqdm.tqdm_notebook`\n",
      "  for day in tqdm_notebook(range((end - begin).days)):\n"
     ]
    },
    {
     "data": {
      "application/vnd.jupyter.widget-view+json": {
       "model_id": "14815c8896e946d8819ecca403db0c0f",
       "version_major": 2,
       "version_minor": 0
      },
      "text/plain": [
       "0it [00:00, ?it/s]"
      ]
     },
     "metadata": {},
     "output_type": "display_data"
    }
   ],
   "source": [
    "insightFields = [  \n",
    "    AdsInsights.Field.campaign_name,\n",
    "    AdsInsights.Field.campaign_id,\n",
    "    AdsInsights.Field.adset_id,\n",
    "    AdsInsights.Field.adset_name,\n",
    "    AdsInsights.Field.ad_id,\n",
    "    AdsInsights.Field.ad_name,\n",
    "    AdsInsights.Field.impressions, # 노출\n",
    "    AdsInsights.Field.clicks,\n",
    "    AdsInsights.Field.cpm, # 1000 노출당 비용\n",
    "    AdsInsights.Field.ctr, # 사람들이 광고를 보고 클릭(전체) 행동을 취한 비율\n",
    "    AdsInsights.Field.cpp, # 사람들이 광고를 보고 클릭(전체) 행동을 취한 비율\n",
    "    AdsInsights.Field.spend, # 광고비\n",
    "    AdsInsights.Field.reach, # 도달\n",
    "    AdsInsights.Field.purchase_roas,\n",
    "    AdsInsights.Field.conversions,\n",
    "    AdsInsights.Field.date_start,\n",
    "    AdsInsights.Field.date_stop,\n",
    "    AdsInsights.Field.objective, # 광고 목적\n",
    "    AdsInsights.Field.actions, # purchase(구매수)\n",
    "]\n",
    "\n",
    "begin = datetime.date(2023, 4, 1)\n",
    "end = datetime.date(2023, 4, 1)\n",
    "\n",
    "# 전체 데이터 저장 할 변수\n",
    "total_li = []\n",
    "for day in tqdm_notebook(range((end - begin).days)):\n",
    "    day = begin + datetime.timedelta(days=day) \n",
    "    day = day.strftime('%Y-%m-%d') \n",
    "    \n",
    "    # 일단위 광고 데이터 받아오기\n",
    "    # 캠페인, 광고셋, 광고 중 최소단위인 광고데이터를 성별과 나이로 구분\n",
    "    params = {\n",
    "        'time_range': {'since': day, 'until': day},\n",
    "        'level': 'ad',\n",
    "        'breakdowns': ['age', 'gender'],\n",
    "    }\n",
    "    \n",
    "    # 광고계정 연결 (계정명 : phytoway)\n",
    "    insights = AdAccount('act_252130562447858').get_insights(params=params, fields=insightFields)\n",
    "    \n",
    " \n",
    "    # 1일 단위의 광고 정보 \n",
    "    for ins in insights: \n",
    "        purchase_roas = 0\n",
    "        # 로하스 값만 가져오기\n",
    "        if 'purchase_roas' in ins:\n",
    "            purchase_roas = ins['purchase_roas'][0]['value'] \n",
    "\n",
    "        \n",
    "        purchase = 0\n",
    "        post_engagement = 0\n",
    "        if 'actions' in ins:\n",
    "            actions = ins['actions']\n",
    "            purchase = list(filter(lambda x: x['action_type'] == 'purchase', ins['actions'] ))\n",
    "            if len(purchase) > 0:\n",
    "                purchase = purchase[0]['value']\n",
    "\n",
    "            post_engagement = list(filter(lambda x: x['action_type'] == 'purchase', ins['actions'] ))\n",
    "            if len(post_engagement) > 0:\n",
    "                post_engagement = post_engagement[0]['value']\n",
    "        \n",
    "        cpp = -1\n",
    "        if 'cpp' in ins:\n",
    "            cpp = ins['cpp']\n",
    "\n",
    "        cpm = -1\n",
    "        if 'cpm' in ins:\n",
    "            cpm = ins['cpm']\n",
    "\n",
    "        ctr = 0\n",
    "        if 'ctr' in ins:\n",
    "            ctr = ins['ctr'] \n",
    "\n",
    "        row = {\n",
    "            'objective': ins['objective'],\n",
    "            'campaign_id':ins['campaign_id'],\n",
    "            'adset_id': ins['adset_id'], \n",
    "            'ad_id':ins['ad_id'], \n",
    "            'ad_name':ins['ad_name'],\n",
    "            'gender':ins['gender'], \n",
    "            'age':ins['age'],\n",
    "            'date_start':ins['date_start'],\n",
    "            'date_stop':ins['date_stop'],\n",
    "            \n",
    "            'spend':ins['spend'], \n",
    "            'impressions':ins['impressions'], \n",
    "            'clicks':ins['clicks'],  \n",
    "            'reach':ins['reach'], \n",
    "            'cpp':cpp, \n",
    "            'ctr':ctr, \n",
    "            'cpm':cpm, \n",
    "            'purchase_roas':purchase_roas, \n",
    "            'purchase':purchase,  \n",
    "        }\n",
    "\n",
    "        total_li.append(row) \n",
    "        \n",
    "rdf = pd.DataFrame(total_li)"
   ]
  },
  {
   "cell_type": "code",
   "execution_count": 11,
   "metadata": {},
   "outputs": [
    {
     "data": {
      "text/html": [
       "<div>\n",
       "<style scoped>\n",
       "    .dataframe tbody tr th:only-of-type {\n",
       "        vertical-align: middle;\n",
       "    }\n",
       "\n",
       "    .dataframe tbody tr th {\n",
       "        vertical-align: top;\n",
       "    }\n",
       "\n",
       "    .dataframe thead th {\n",
       "        text-align: right;\n",
       "    }\n",
       "</style>\n",
       "<table border=\"1\" class=\"dataframe\">\n",
       "  <thead>\n",
       "    <tr style=\"text-align: right;\">\n",
       "      <th></th>\n",
       "    </tr>\n",
       "  </thead>\n",
       "  <tbody>\n",
       "  </tbody>\n",
       "</table>\n",
       "</div>"
      ],
      "text/plain": [
       "Empty DataFrame\n",
       "Columns: []\n",
       "Index: []"
      ]
     },
     "execution_count": 11,
     "metadata": {},
     "output_type": "execute_result"
    }
   ],
   "source": [
    "rdf"
   ]
  },
  {
   "cell_type": "code",
   "execution_count": null,
   "metadata": {},
   "outputs": [
    {
     "name": "stderr",
     "output_type": "stream",
     "text": [
      "C:\\Users\\user\\AppData\\Local\\Temp\\ipykernel_18440\\2365197128.py:28: TqdmDeprecationWarning: This function will be removed in tqdm==5.0.0\n",
      "Please use `tqdm.notebook.tqdm` instead of `tqdm.tqdm_notebook`\n",
      "  for day in tqdm_notebook(range((end - begin).days)):\n"
     ]
    },
    {
     "data": {
      "application/vnd.jupyter.widget-view+json": {
       "model_id": "4abfd06803de44bab6eec07e9c318779",
       "version_major": 2,
       "version_minor": 0
      },
      "text/plain": [
       "  0%|          | 0/5 [00:00<?, ?it/s]"
      ]
     },
     "metadata": {},
     "output_type": "display_data"
    }
   ],
   "source": [
    "insightFields = [  \n",
    "    AdsInsights.Field.campaign_name,\n",
    "    AdsInsights.Field.campaign_id,\n",
    "    AdsInsights.Field.adset_id,\n",
    "    AdsInsights.Field.adset_name,\n",
    "    AdsInsights.Field.ad_id,\n",
    "    AdsInsights.Field.ad_name,\n",
    "    AdsInsights.Field.impressions, # 노출\n",
    "    AdsInsights.Field.clicks,\n",
    "    AdsInsights.Field.cpm, # 1000 노출당 비용\n",
    "    AdsInsights.Field.ctr, # 사람들이 광고를 보고 클릭(전체) 행동을 취한 비율\n",
    "    AdsInsights.Field.cpp, # 사람들이 광고를 보고 클릭(전체) 행동을 취한 비율\n",
    "    AdsInsights.Field.spend, # 광고비\n",
    "    AdsInsights.Field.reach, # 도달\n",
    "    AdsInsights.Field.purchase_roas,\n",
    "    AdsInsights.Field.conversions,\n",
    "    AdsInsights.Field.date_start,\n",
    "    AdsInsights.Field.date_stop,\n",
    "    AdsInsights.Field.objective, # 광고 목적\n",
    "    AdsInsights.Field.actions, # purchase(구매수)\n",
    "]\n",
    "\n",
    "begin = datetime.date(2022, 12, 10)\n",
    "end = datetime.date(2022, 12, 15)\n",
    "\n",
    "# 전체 데이터 저장 할 변수\n",
    "total_li = []\n",
    "for day in tqdm_notebook(range((end - begin).days)):\n",
    "    day = begin + datetime.timedelta(days=day) \n",
    "    day = day.strftime('%Y-%m-%d') \n",
    "    \n",
    "    # 일단위 광고 데이터 받아오기\n",
    "    # 캠페인, 광고셋, 광고 중 최소단위인 광고데이터를 성별과 나이로 구분\n",
    "    params = {\n",
    "        'time_range': {'since': day, 'until': day},\n",
    "        'level': 'ad',\n",
    "        'breakdowns': ['age', 'gender'],\n",
    "    }\n",
    "    \n",
    "    # 광고계정 연결 (계정명 : phytoway)\n",
    "    insights = AdAccount('act_252130562447858').get_insights(params=params, fields=insightFields)\n",
    "    \n",
    " \n",
    "    # 1일 단위의 광고 정보 \n",
    "    for ins in insights: \n",
    "        purchase_roas = 0\n",
    "        # 로하스 값만 가져오기\n",
    "        if 'purchase_roas' in ins:\n",
    "            purchase_roas = ins['purchase_roas'][0]['value'] \n",
    "\n",
    "        \n",
    "        purchase = 0\n",
    "        post_engagement = 0\n",
    "        if 'actions' in ins:\n",
    "            actions = ins['actions']\n",
    "            purchase = list(filter(lambda x: x['action_type'] == 'purchase', ins['actions'] ))\n",
    "            if len(purchase) > 0:\n",
    "                purchase = purchase[0]['value']\n",
    "\n",
    "            post_engagement = list(filter(lambda x: x['action_type'] == 'purchase', ins['actions'] ))\n",
    "            if len(post_engagement) > 0:\n",
    "                post_engagement = post_engagement[0]['value']\n",
    "        \n",
    "        cpp = -1\n",
    "        if 'cpp' in ins:\n",
    "            cpp = ins['cpp']\n",
    "\n",
    "        cpm = -1\n",
    "        if 'cpm' in ins:\n",
    "            cpm = ins['cpm']\n",
    "\n",
    "        ctr = 0\n",
    "        if 'ctr' in ins:\n",
    "            ctr = ins['ctr'] \n",
    "\n",
    "        row = {\n",
    "            'objective': ins['objective'],\n",
    "            'campaign_id':ins['campaign_id'],\n",
    "            'adset_id': ins['adset_id'], \n",
    "            'ad_id':ins['ad_id'], \n",
    "            'ad_name':ins['ad_name'],\n",
    "            'gender':ins['gender'], \n",
    "            'age':ins['age'],\n",
    "            'date_start':ins['date_start'],\n",
    "            'date_stop':ins['date_stop'],\n",
    "            # 'date' : since, \n",
    "            'spend':ins['spend'], \n",
    "            'impressions':ins['impressions'], \n",
    "            'clicks':ins['clicks'],  \n",
    "            'reach':ins['reach'], \n",
    "            'cpp':cpp, \n",
    "            'ctr':ctr, \n",
    "            'cpm':cpm, \n",
    "            'purchase_roas':purchase_roas, \n",
    "            'purchase':purchase,  \n",
    "        }\n",
    "\n",
    "        total_li.append(row) \n",
    "        \n",
    "rdf = pd.DataFrame(total_li)"
   ]
  },
  {
   "cell_type": "code",
   "execution_count": 40,
   "metadata": {},
   "outputs": [],
   "source": [
    "from facebook_business.api import FacebookAdsApi\n",
    "from facebook_business.adobjects.adaccount import AdAccount\n",
    "import pandas as pd\n",
    "\n",
    "# 앱 정보 및 액세스 토큰 설정\n",
    "app_id = '204816748966658'\n",
    "app_secret = 'f0f1c03eff0f90ea299817d3db8f408f'\n",
    "access_token = 'EAAC6R52Q8wIBAKX8Itb5MYh4401pZB3y7gjACEdfAON4wmN1dqD4mJDZBRGI6pkoPKZAY7ZCLKsn4DPgldZB18FKeZBljodjsZCGAZBgzJi2lis6PinWu65ZAhag8sjwqnMZAOcMCoMeBmJNeNfHS53QuplWeRNqYcGR3ykrSOahbg0tZCFlX9h3j0O'\n",
    "FacebookAdsApi.init(app_id, app_secret, access_token)\n",
    "\n",
    "# 가져올 광고보고서 데이터 지정\n",
    "account_id = 'act_252130562447858'\n",
    "# fields = ['account_name', 'campaign_name', 'impressions', 'clicks']\n",
    "fields = ['account_name', 'campaign_name', 'adset_name', 'ad_name', 'impressions', 'clicks', 'spend', 'reach', 'actions', 'action_values']\n",
    "# fields = ['account_name', 'campaign_name', 'adgroup_name', 'ad_name', 'spend', 'impressions', 'reach', 'clicks', 'actions', 'action_values']\n",
    "params = {\n",
    "    'time_range': {'since':'2022-04-01', 'until':'2022-04-01'},\n",
    "    'level': 'ad'\n",
    "}\n",
    "\n",
    "# API 호출\n",
    "response = AdAccount(account_id).get_insights(fields=fields, params=params)\n",
    "\n",
    "# JSON 데이터를 데이터프레임으로 변환\n",
    "data = list(response)\n",
    "df = pd.DataFrame(data)\n"
   ]
  },
  {
   "cell_type": "code",
   "execution_count": 45,
   "metadata": {},
   "outputs": [
    {
     "data": {
      "text/plain": [
       "[{'action_type': 'offsite_conversion.fb_pixel_view_content',\n",
       "  'value': '297500'},\n",
       " {'action_type': 'omni_view_content', 'value': '297500'}]"
      ]
     },
     "execution_count": 45,
     "metadata": {},
     "output_type": "execute_result"
    }
   ],
   "source": [
    "df['action_values'].values.tolist()[3]"
   ]
  }
 ],
 "metadata": {
  "kernelspec": {
   "display_name": "Python 3",
   "language": "python",
   "name": "python3"
  },
  "language_info": {
   "codemirror_mode": {
    "name": "ipython",
    "version": 3
   },
   "file_extension": ".py",
   "mimetype": "text/x-python",
   "name": "python",
   "nbconvert_exporter": "python",
   "pygments_lexer": "ipython3",
   "version": "3.8.10"
  },
  "orig_nbformat": 4
 },
 "nbformat": 4,
 "nbformat_minor": 2
}
