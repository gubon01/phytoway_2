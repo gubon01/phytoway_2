{
 "cells": [
  {
   "cell_type": "code",
   "execution_count": 18,
   "metadata": {},
   "outputs": [],
   "source": [
    "import os\n",
    "import shutil\n",
    "import pandas as pd\n",
    "import csv\n",
    "import psycopg2\n",
    "import datetime"
   ]
  },
  {
   "cell_type": "code",
   "execution_count": null,
   "metadata": {},
   "outputs": [],
   "source": [
    "# 1. 파일명에 '사용자정의채널'이 들어간 파일을 읽는다.\n",
    "\n",
    "# 2. 유효성 검사를 한다.\n",
    "\n",
    "# 3. 전처리를 한다.\n",
    "\n",
    "# 4. db에 입력한다."
   ]
  },
  {
   "attachments": {},
   "cell_type": "markdown",
   "metadata": {},
   "source": [
    "# 사용자정의채널"
   ]
  },
  {
   "cell_type": "code",
   "execution_count": 2,
   "metadata": {},
   "outputs": [
    {
     "data": {
      "text/plain": [
       "['사용자정의채널_2023-04-25_2023-04-25.xlsx']"
      ]
     },
     "execution_count": 2,
     "metadata": {},
     "output_type": "execute_result"
    }
   ],
   "source": [
    "# 1. 파일명에 '사용자정의채널'이 들어간 파일을 읽는다.\n",
    "\n",
    "root_path = 'C:/dataHub'\n",
    "file_list = os.listdir(root_path)\n",
    "\n",
    "사용자정의채널 = [file for file in file_list if '사용자정의채널' in file]\n",
    "\n",
    "사용자정의채널"
   ]
  },
  {
   "cell_type": "code",
   "execution_count": 3,
   "metadata": {},
   "outputs": [
    {
     "data": {
      "text/plain": [
       "['사용자정의채널_2023-04-25_2023-04-25.xlsx']"
      ]
     },
     "execution_count": 3,
     "metadata": {},
     "output_type": "execute_result"
    }
   ],
   "source": [
    "# 2. 유효성 검사를 한다.\n",
    "\n",
    "checked_file = []\n",
    "check_date_list = ['2023-04-25']\n",
    "\n",
    "for check_date in check_date_list:\n",
    "    for file in 사용자정의채널:\n",
    "        if check_date + '_' + check_date in file:\n",
    "            checked_file.append(file)\n",
    "\n",
    "checked_file"
   ]
  },
  {
   "cell_type": "code",
   "execution_count": 4,
   "metadata": {},
   "outputs": [
    {
     "name": "stderr",
     "output_type": "stream",
     "text": [
      "c:\\Users\\나현중\\AppData\\Local\\Programs\\Python\\Python311\\Lib\\site-packages\\openpyxl\\styles\\stylesheet.py:226: UserWarning: Workbook contains no default style, apply openpyxl's default\n",
      "  warn(\"Workbook contains no default style, apply openpyxl's default\")\n"
     ]
    }
   ],
   "source": [
    "# 3. 전처리를 한다.\n",
    "\n",
    "for file in checked_file:\n",
    "    df = pd.read_excel(root_path + '/' + file)\n",
    "    df['날짜'] = file[8:18]\n",
    "    col_order = df.columns.to_list()[-1:] + df.columns.to_list()[0:-1]\n",
    "    df = df[col_order]\n",
    "    df.to_csv(root_path + '/dataSub/사용자정의채널/' + file[:-5] + '.csv', encoding='cp949', index=False)\n",
    "    os.remove(root_path + '/' + file)"
   ]
  },
  {
   "cell_type": "code",
   "execution_count": 5,
   "metadata": {},
   "outputs": [],
   "source": [
    "# 4. db에 입력한다.\n",
    "\n",
    "conn = psycopg2.connect(host='115.68.228.168', user='postgres', password='cldngks', dbname='phytogether', port=5432)\n",
    "cursor = conn.cursor()\n",
    "\n",
    "\n",
    "preprocessed_file = os.listdir(root_path + '/dataSub/사용자정의채널/')\n",
    "preprocessed_file.remove('DB입력완료')\n",
    "\n",
    "\n",
    "for file in preprocessed_file:\n",
    "    df = pd.read_csv(root_path + '/dataSub/사용자정의채널/' + file, encoding='cp949')\n",
    "    data = df.values.tolist()\n",
    "    for d in data:\n",
    "        cursor.execute('INSERT INTO \"Naver_Custom_Order\" (yymmdd, device, nt_source, nt_medium, nt_detail, nt_keyword, customer_cnt, inflow_cnt, page_cnt, page_inflow_cnt, order_cnt, order_inflow_per, order_price, order_inflow_price, contribute_cnt, contribute_inflow_per, contribute_price, contribute_inflow_price) VALUES (%s, %s, %s, %s, %s, %s, %s, %s, %s, %s, %s, %s, %s, %s, %s, %s, %s, %s)', d)\n",
    "\n",
    "\n",
    "    shutil.move(root_path + '/dataSub/사용자정의채널/' + file, root_path + '/dataSub/사용자정의채널/DB입력완료')\n",
    "\n",
    "conn.commit()\n",
    "conn.close()"
   ]
  },
  {
   "attachments": {},
   "cell_type": "markdown",
   "metadata": {},
   "source": [
    "# 검색채널"
   ]
  },
  {
   "cell_type": "code",
   "execution_count": 6,
   "metadata": {},
   "outputs": [
    {
     "data": {
      "text/plain": [
       "['검색채널_2023-04-25_2023-04-25.xlsx']"
      ]
     },
     "execution_count": 6,
     "metadata": {},
     "output_type": "execute_result"
    }
   ],
   "source": [
    "# 1. 파일명에 '검색채널'이 들어간 파일을 읽는다.\n",
    "\n",
    "root_path = 'C:/dataHub'\n",
    "file_list = os.listdir(root_path)\n",
    "\n",
    "검색채널 = [file for file in file_list if '검색채널' in file]\n",
    "\n",
    "검색채널"
   ]
  },
  {
   "cell_type": "code",
   "execution_count": 7,
   "metadata": {},
   "outputs": [
    {
     "data": {
      "text/plain": [
       "['검색채널_2023-04-25_2023-04-25.xlsx']"
      ]
     },
     "execution_count": 7,
     "metadata": {},
     "output_type": "execute_result"
    }
   ],
   "source": [
    "# 2. 유효성 검사를 한다.\n",
    "\n",
    "checked_file = []\n",
    "check_date_list = ['2023-04-25']\n",
    "\n",
    "for check_date in check_date_list:\n",
    "    for file in 검색채널:\n",
    "        if check_date + '_' + check_date in file:\n",
    "            checked_file.append(file)\n",
    "\n",
    "checked_file"
   ]
  },
  {
   "cell_type": "code",
   "execution_count": 8,
   "metadata": {},
   "outputs": [
    {
     "name": "stderr",
     "output_type": "stream",
     "text": [
      "c:\\Users\\나현중\\AppData\\Local\\Programs\\Python\\Python311\\Lib\\site-packages\\openpyxl\\styles\\stylesheet.py:226: UserWarning: Workbook contains no default style, apply openpyxl's default\n",
      "  warn(\"Workbook contains no default style, apply openpyxl's default\")\n"
     ]
    }
   ],
   "source": [
    "# 3. 전처리를 한다.\n",
    "\n",
    "for file in checked_file:\n",
    "    df = pd.read_excel(root_path + '/' + file)\n",
    "    df['날짜'] = file[5:15]\n",
    "    df.to_csv(root_path + '/dataSub/검색채널/' + file[:-5] + '.csv', encoding='cp949', index=False)\n",
    "    os.remove(root_path + '/' + file)"
   ]
  },
  {
   "cell_type": "code",
   "execution_count": 9,
   "metadata": {},
   "outputs": [],
   "source": [
    "# 4. db에 입력한다.\n",
    "\n",
    "conn = psycopg2.connect(host='115.68.228.168', user='postgres', password='cldngks', dbname='phytogether', port=5432)\n",
    "cursor = conn.cursor()\n",
    "\n",
    "\n",
    "preprocessed_file = os.listdir(root_path + '/dataSub/검색채널/')\n",
    "preprocessed_file.remove('DB입력완료')\n",
    "\n",
    "\n",
    "for file in preprocessed_file:\n",
    "    df = pd.read_csv(root_path + '/dataSub/검색채널/' + file, encoding='cp949')\n",
    "    data = df.values.tolist()\n",
    "    for d in data:\n",
    "        cursor.execute('INSERT INTO \"Naver_Search_Channel\" (\"A\", \"B\", \"C\", \"D\", \"E\", \"F\", \"G\", \"H\", \"I\", \"J\", \"K\", \"L\", \"M\", \"N\", \"O\", \"P\", \"yymmdd\") VALUES (%s, %s, %s, %s, %s, %s, %s, %s, %s, %s, %s, %s, %s, %s, %s, %s, %s)', d)\n",
    "\n",
    "\n",
    "    shutil.move(root_path + '/dataSub/검색채널/' + file, root_path + '/dataSub/검색채널/DB입력완료')\n",
    "\n",
    "conn.commit()\n",
    "conn.close()"
   ]
  },
  {
   "attachments": {},
   "cell_type": "markdown",
   "metadata": {},
   "source": [
    "# 네이버광고_계정1"
   ]
  },
  {
   "cell_type": "code",
   "execution_count": 10,
   "metadata": {},
   "outputs": [
    {
     "data": {
      "text/plain": [
       "['검색광고_운영관리팀,zero2one (3).csv']"
      ]
     },
     "execution_count": 10,
     "metadata": {},
     "output_type": "execute_result"
    }
   ],
   "source": [
    "# 1. 파일명이 '검색광고_운영관리팀,zero2one'으로 시작하는 파일을 읽는다.\n",
    "\n",
    "root_path = 'C:/dataHub'\n",
    "file_list = os.listdir(root_path)\n",
    "\n",
    "네이버광고_계정1 = [file for file in file_list if file.startswith('검색광고_운영관리팀,zero2one')]\n",
    "\n",
    "네이버광고_계정1"
   ]
  },
  {
   "cell_type": "code",
   "execution_count": 11,
   "metadata": {},
   "outputs": [
    {
     "name": "stdout",
     "output_type": "stream",
     "text": [
      "유효성 검사 및 전처리 완료\n"
     ]
    }
   ],
   "source": [
    "# 2. 유효성 검사를 한다.\n",
    "# 3. 전처리를 한다.\n",
    "\n",
    "check_date_list = ['2023-04-25']\n",
    "\n",
    "if  len(네이버광고_계정1) == 1:\n",
    "\n",
    "    df = pd.read_csv(root_path + '/' + 네이버광고_계정1[0], skiprows=1, thousands = ',')\n",
    "    df['날짜'] = df['일별'].apply(lambda x: x.replace('.', '-')[0:-1])\n",
    "    df['계정'] = 'zero2one'\n",
    "\n",
    "    \n",
    "\n",
    "    날짜 = sorted(df['날짜'].unique().tolist())\n",
    "    \n",
    "    if 날짜 == sorted(check_date_list):\n",
    "        df.to_csv(root_path + '/dataSub/네이버광고_계정1/' + 네이버광고_계정1[0], encoding='cp949', index=False)\n",
    "        os.remove(root_path + '/' + 네이버광고_계정1[0])\n",
    "        print('유효성 검사 및 전처리 완료')\n",
    "\n",
    "    else:\n",
    "        print('실행안됨 : 날짜가 맞지 않습니다.')\n",
    "else:\n",
    "    print('실행안됨 : dataHub에 파일이 없습니다.')"
   ]
  },
  {
   "cell_type": "code",
   "execution_count": 12,
   "metadata": {},
   "outputs": [],
   "source": [
    "# 4. db에 입력한다.\n",
    "\n",
    "conn = psycopg2.connect(host='115.68.228.168', user='postgres', password='cldngks', dbname='phytogether', port=5432)\n",
    "cursor = conn.cursor()\n",
    "\n",
    "\n",
    "preprocessed_file = os.listdir(root_path + '/dataSub/네이버광고_계정1/')\n",
    "preprocessed_file.remove('DB입력완료')\n",
    "\n",
    "\n",
    "if len(preprocessed_file) == 1:\n",
    "    df = pd.read_csv(root_path + '/dataSub/네이버광고_계정1/' + preprocessed_file[0], encoding='cp949')\n",
    "    data = df.values.tolist()\n",
    "    for d in data:\n",
    "        cursor.execute('INSERT INTO \"AD_Naver\" (\"A\", \"B\", \"C\", \"D\", \"E\", \"F\", \"G\", \"H\", \"I\", \"J\", \"K\", \"L\", \"M\", \"N\", \"O\", \"P\", \"Q\", \"R\", \"S\", \"T\", \"U\", \"V\", \"W\", \"X\", \"Y\", \"Z\", \"AA\", \"AB\", \"reg_date\", \"id\") VALUES (%s, %s, %s, %s, %s, %s, %s, %s, %s, %s, %s, %s, %s, %s, %s, %s, %s, %s, %s, %s, %s, %s, %s, %s, %s, %s, %s, %s, %s, %s)', d)\n",
    "\n",
    "\n",
    "    shutil.move(root_path + '/dataSub/네이버광고_계정1/' + preprocessed_file[0], root_path + '/dataSub/네이버광고_계정1/DB입력완료')\n",
    "\n",
    "conn.commit()\n",
    "conn.close()"
   ]
  },
  {
   "attachments": {},
   "cell_type": "markdown",
   "metadata": {},
   "source": [
    "# 네이버광고_계정2"
   ]
  },
  {
   "cell_type": "code",
   "execution_count": 14,
   "metadata": {},
   "outputs": [
    {
     "data": {
      "text/plain": [
       "['[zero2one2]검색광고_운영관리팀,zero2one2 (2).csv']"
      ]
     },
     "execution_count": 14,
     "metadata": {},
     "output_type": "execute_result"
    }
   ],
   "source": [
    "# 1. 파일명이 '[zero2one2]검색광고_운영관리팀,zero2one2'으로 시작하는 파일을 읽는다.\n",
    "\n",
    "root_path = 'C:/dataHub'\n",
    "file_list = os.listdir(root_path)\n",
    "\n",
    "네이버광고_계정2 = [file for file in file_list if file.startswith('[zero2one2]검색광고_운영관리팀,zero2one2')]\n",
    "\n",
    "네이버광고_계정2"
   ]
  },
  {
   "cell_type": "code",
   "execution_count": 32,
   "metadata": {},
   "outputs": [
    {
     "data": {
      "text/plain": [
       "'2023-04-26'"
      ]
     },
     "execution_count": 32,
     "metadata": {},
     "output_type": "execute_result"
    }
   ],
   "source": []
  },
  {
   "cell_type": "code",
   "execution_count": 15,
   "metadata": {},
   "outputs": [
    {
     "name": "stdout",
     "output_type": "stream",
     "text": [
      "유효성 검사 및 전처리 완료\n"
     ]
    }
   ],
   "source": [
    "# 2. 유효성 검사를 한다.\n",
    "# 3. 전처리를 한다.\n",
    "\n",
    "check_date_list = ['2023-04-25']\n",
    "\n",
    "if  len(네이버광고_계정2) == 1:\n",
    "\n",
    "    df = pd.read_csv(root_path + '/' + 네이버광고_계정2[0], skiprows=1, thousands = ',')\n",
    "    df['날짜'] = df['일별'].apply(lambda x: x.replace('.', '-')[0:-1])\n",
    "    df['계정'] = 'zero2one2'\n",
    "\n",
    "    날짜 = sorted(df['날짜'].unique().tolist())\n",
    "    \n",
    "    if 날짜 == sorted(check_date_list):\n",
    "        df.to_csv(root_path + '/dataSub/네이버광고_계정2/' + 네이버광고_계정2[0], encoding='cp949', index=False)\n",
    "        os.remove(root_path + '/' + 네이버광고_계정2[0])\n",
    "        print('유효성 검사 및 전처리 완료')\n",
    "\n",
    "    else:\n",
    "        print('실행안됨 : 날짜가 맞지 않습니다.')\n",
    "else:\n",
    "    print('실행안됨 : dataHub에 파일이 없습니다.')"
   ]
  },
  {
   "cell_type": "code",
   "execution_count": 23,
   "metadata": {},
   "outputs": [],
   "source": [
    "# 4. db에 입력한다.\n",
    "\n",
    "conn = psycopg2.connect(host='115.68.228.168', user='postgres', password='cldngks', dbname='phytogether', port=5432)\n",
    "cursor = conn.cursor()\n",
    "\n",
    "\n",
    "preprocessed_file = os.listdir(root_path + '/dataSub/네이버광고_계정2/')\n",
    "preprocessed_file.remove('DB입력완료')\n",
    "\n",
    "\n",
    "if len(preprocessed_file) == 1:\n",
    "    df = pd.read_csv(root_path + '/dataSub/네이버광고_계정2/' + preprocessed_file[0], encoding='cp949')\n",
    "    data = df.values.tolist()\n",
    "    for d in data:\n",
    "        cursor.execute('INSERT INTO \"AD_Naver\" (\"A\", \"B\", \"C\", \"D\", \"E\", \"F\", \"G\", \"H\", \"I\", \"J\", \"K\", \"L\", \"M\", \"N\", \"O\", \"P\", \"Q\", \"R\", \"S\", \"T\", \"U\", \"V\", \"W\", \"X\", \"Y\", \"Z\", \"AA\", \"AB\", \"reg_date\", \"id\") VALUES (%s, %s, %s, %s, %s, %s, %s, %s, %s, %s, %s, %s, %s, %s, %s, %s, %s, %s, %s, %s, %s, %s, %s, %s, %s, %s, %s, %s, %s, %s)', d)\n",
    "\n",
    "\n",
    "    shutil.move(root_path + '/dataSub/네이버광고_계정2/' + preprocessed_file[0], root_path + '/dataSub/네이버광고_계정2/DB입력완료/' + preprocessed_file[0][0:-4] + datetime.date.today().isoformat() + '.csv')\n",
    "\n",
    "conn.commit()\n",
    "conn.close()"
   ]
  },
  {
   "attachments": {},
   "cell_type": "markdown",
   "metadata": {},
   "source": [
    "# 네이버광고_계정3"
   ]
  },
  {
   "cell_type": "code",
   "execution_count": 33,
   "metadata": {},
   "outputs": [
    {
     "data": {
      "text/plain": [
       "['[zero2one3]일별광고보고서,zero2one3 (2).csv']"
      ]
     },
     "execution_count": 33,
     "metadata": {},
     "output_type": "execute_result"
    }
   ],
   "source": [
    "# 1. 파일명이 '[zero2one3]일별광고보고서,zero2one3'으로 시작하는 파일을 읽는다.\n",
    "\n",
    "root_path = 'C:/dataHub'\n",
    "file_list = os.listdir(root_path)\n",
    "\n",
    "네이버광고_계정3 = [file for file in file_list if file.startswith('[zero2one3]일별광고보고서,zero2one3')]\n",
    "\n",
    "네이버광고_계정3"
   ]
  },
  {
   "cell_type": "code",
   "execution_count": 34,
   "metadata": {},
   "outputs": [
    {
     "name": "stdout",
     "output_type": "stream",
     "text": [
      "유효성 검사 및 전처리 완료\n"
     ]
    }
   ],
   "source": [
    "# 2. 유효성 검사를 한다.\n",
    "# 3. 전처리를 한다.\n",
    "\n",
    "check_date_list = ['2023-04-25']\n",
    "\n",
    "if  len(네이버광고_계정3) == 1:\n",
    "\n",
    "    df = pd.read_csv(root_path + '/' + 네이버광고_계정3[0], skiprows=1, thousands = ',')\n",
    "    df['날짜'] = df['일별'].apply(lambda x: x.replace('.', '-')[0:-1])\n",
    "    df['계정'] = 'zero2one3'\n",
    "\n",
    "    날짜 = sorted(df['날짜'].unique().tolist())\n",
    "    \n",
    "    if 날짜 == sorted(check_date_list):\n",
    "        df.to_csv(root_path + '/dataSub/네이버광고_계정3/' + 네이버광고_계정3[0], encoding='cp949', index=False)\n",
    "        os.remove(root_path + '/' + 네이버광고_계정3[0])\n",
    "        print('유효성 검사 및 전처리 완료')\n",
    "\n",
    "    else:\n",
    "        print('실행안됨 : 날짜가 맞지 않습니다.')\n",
    "else:\n",
    "    print('실행안됨 : dataHub에 파일이 없습니다.')"
   ]
  },
  {
   "cell_type": "code",
   "execution_count": 35,
   "metadata": {},
   "outputs": [],
   "source": [
    "# 4. db에 입력한다.\n",
    "\n",
    "conn = psycopg2.connect(host='115.68.228.168', user='postgres', password='cldngks', dbname='phytogether', port=5432)\n",
    "cursor = conn.cursor()\n",
    "\n",
    "\n",
    "preprocessed_file = os.listdir(root_path + '/dataSub/네이버광고_계정3/')\n",
    "preprocessed_file.remove('DB입력완료')\n",
    "\n",
    "\n",
    "if len(preprocessed_file) == 1:\n",
    "    df = pd.read_csv(root_path + '/dataSub/네이버광고_계정3/' + preprocessed_file[0], encoding='cp949')\n",
    "    data = df.values.tolist()\n",
    "    for d in data:\n",
    "        cursor.execute('INSERT INTO \"AD_Naver\" (\"A\", \"B\", \"C\", \"D\", \"E\", \"F\", \"G\", \"H\", \"I\", \"J\", \"K\", \"L\", \"M\", \"N\", \"O\", \"P\", \"Q\", \"R\", \"S\", \"T\", \"U\", \"V\", \"W\", \"X\", \"Y\", \"Z\", \"AA\", \"AB\", \"reg_date\", \"id\") VALUES (%s, %s, %s, %s, %s, %s, %s, %s, %s, %s, %s, %s, %s, %s, %s, %s, %s, %s, %s, %s, %s, %s, %s, %s, %s, %s, %s, %s, %s, %s)', d)\n",
    "\n",
    "\n",
    "    shutil.move(root_path + '/dataSub/네이버광고_계정3/' + preprocessed_file[0], root_path + '/dataSub/네이버광고_계정3/DB입력완료/' + preprocessed_file[0][0:-4] + datetime.date.today().isoformat() + '.csv')\n",
    "\n",
    "else:\n",
    "    print('파일 : ' + str(preprocessed_file))\n",
    "\n",
    "conn.commit()\n",
    "conn.close()"
   ]
  }
 ],
 "metadata": {
  "kernelspec": {
   "display_name": "Python 3",
   "language": "python",
   "name": "python3"
  },
  "language_info": {
   "codemirror_mode": {
    "name": "ipython",
    "version": 3
   },
   "file_extension": ".py",
   "mimetype": "text/x-python",
   "name": "python",
   "nbconvert_exporter": "python",
   "pygments_lexer": "ipython3",
   "version": "3.11.2"
  },
  "orig_nbformat": 4
 },
 "nbformat": 4,
 "nbformat_minor": 2
}
