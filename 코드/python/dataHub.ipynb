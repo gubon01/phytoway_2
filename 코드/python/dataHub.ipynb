{
 "cells": [
  {
   "cell_type": "code",
   "execution_count": 2,
   "metadata": {},
   "outputs": [],
   "source": [
    "import os\n",
    "import shutil\n",
    "import pandas as pd\n",
    "import csv\n",
    "import psycopg2\n",
    "import datetime"
   ]
  },
  {
   "cell_type": "code",
   "execution_count": null,
   "metadata": {},
   "outputs": [],
   "source": [
    "# 1. 파일명에 '사용자정의채널'이 들어간 파일을 읽는다.\n",
    "\n",
    "# 2. 유효성 검사를 한다.\n",
    "\n",
    "# 3. 전처리를 한다.\n",
    "\n",
    "# 4. db에 입력한다."
   ]
  },
  {
   "attachments": {},
   "cell_type": "markdown",
   "metadata": {},
   "source": [
    "# 날짜 입력"
   ]
  },
  {
   "cell_type": "code",
   "execution_count": 26,
   "metadata": {},
   "outputs": [],
   "source": [
    "check_date_list = ['2023-04-26']"
   ]
  },
  {
   "attachments": {},
   "cell_type": "markdown",
   "metadata": {},
   "source": [
    "# 사용자정의채널"
   ]
  },
  {
   "cell_type": "code",
   "execution_count": 7,
   "metadata": {},
   "outputs": [
    {
     "data": {
      "text/plain": [
       "['사용자정의채널_2023-04-26_2023-04-26.xlsx']"
      ]
     },
     "execution_count": 7,
     "metadata": {},
     "output_type": "execute_result"
    }
   ],
   "source": [
    "# 1. 파일명에 '사용자정의채널'이 들어간 파일을 읽는다.\n",
    "\n",
    "root_path = 'C:/dataHub'\n",
    "file_list = os.listdir(root_path)\n",
    "\n",
    "사용자정의채널 = [file for file in file_list if '사용자정의채널' in file]\n",
    "\n",
    "사용자정의채널"
   ]
  },
  {
   "cell_type": "code",
   "execution_count": 8,
   "metadata": {},
   "outputs": [
    {
     "data": {
      "text/plain": [
       "['사용자정의채널_2023-04-26_2023-04-26.xlsx']"
      ]
     },
     "execution_count": 8,
     "metadata": {},
     "output_type": "execute_result"
    }
   ],
   "source": [
    "# 2. 유효성 검사를 한다.\n",
    "\n",
    "checked_file = []\n",
    "\n",
    "\n",
    "for check_date in check_date_list:\n",
    "    for file in 사용자정의채널:\n",
    "        if check_date + '_' + check_date in file:\n",
    "            checked_file.append(file)\n",
    "\n",
    "checked_file"
   ]
  },
  {
   "cell_type": "code",
   "execution_count": 9,
   "metadata": {},
   "outputs": [
    {
     "name": "stderr",
     "output_type": "stream",
     "text": [
      "c:\\Users\\user\\AppData\\Local\\Programs\\Python\\Python38\\lib\\site-packages\\openpyxl\\styles\\stylesheet.py:226: UserWarning: Workbook contains no default style, apply openpyxl's default\n",
      "  warn(\"Workbook contains no default style, apply openpyxl's default\")\n"
     ]
    }
   ],
   "source": [
    "# 3. 전처리를 한다.\n",
    "\n",
    "for file in checked_file:\n",
    "    df = pd.read_excel(root_path + '/' + file)\n",
    "    df['날짜'] = file[8:18]\n",
    "    col_order = df.columns.to_list()[-1:] + df.columns.to_list()[0:-1]\n",
    "    df = df[col_order]\n",
    "    df.to_csv(root_path + '/dataSub/사용자정의채널/' + file[:-5] + '.csv', encoding='cp949', index=False)\n",
    "    os.remove(root_path + '/' + file)"
   ]
  },
  {
   "cell_type": "code",
   "execution_count": 10,
   "metadata": {},
   "outputs": [],
   "source": [
    "# 4. db에 입력한다.\n",
    "\n",
    "conn = psycopg2.connect(host='115.68.228.168', user='postgres', password='cldngks', dbname='phytogether', port=5432)\n",
    "cursor = conn.cursor()\n",
    "\n",
    "\n",
    "preprocessed_file = os.listdir(root_path + '/dataSub/사용자정의채널/')\n",
    "preprocessed_file.remove('DB입력완료')\n",
    "\n",
    "\n",
    "for file in preprocessed_file:\n",
    "    df = pd.read_csv(root_path + '/dataSub/사용자정의채널/' + file, encoding='cp949')\n",
    "    data = df.values.tolist()\n",
    "    for d in data:\n",
    "        cursor.execute('INSERT INTO \"Naver_Custom_Order\" (yymmdd, device, nt_source, nt_medium, nt_detail, nt_keyword, customer_cnt, inflow_cnt, page_cnt, page_inflow_cnt, order_cnt, order_inflow_per, order_price, order_inflow_price, contribute_cnt, contribute_inflow_per, contribute_price, contribute_inflow_price) VALUES (%s, %s, %s, %s, %s, %s, %s, %s, %s, %s, %s, %s, %s, %s, %s, %s, %s, %s)', d)\n",
    "\n",
    "\n",
    "    shutil.move(root_path + '/dataSub/사용자정의채널/' + file, root_path + '/dataSub/사용자정의채널/DB입력완료')\n",
    "\n",
    "conn.commit()\n",
    "conn.close()"
   ]
  },
  {
   "attachments": {},
   "cell_type": "markdown",
   "metadata": {},
   "source": [
    "# 검색채널"
   ]
  },
  {
   "cell_type": "code",
   "execution_count": 11,
   "metadata": {},
   "outputs": [
    {
     "data": {
      "text/plain": [
       "['검색채널_2023-04-26_2023-04-26.xlsx']"
      ]
     },
     "execution_count": 11,
     "metadata": {},
     "output_type": "execute_result"
    }
   ],
   "source": [
    "# 1. 파일명에 '검색채널'이 들어간 파일을 읽는다.\n",
    "\n",
    "root_path = 'C:/dataHub'\n",
    "file_list = os.listdir(root_path)\n",
    "\n",
    "검색채널 = [file for file in file_list if '검색채널' in file]\n",
    "\n",
    "검색채널"
   ]
  },
  {
   "cell_type": "code",
   "execution_count": 12,
   "metadata": {},
   "outputs": [
    {
     "data": {
      "text/plain": [
       "['검색채널_2023-04-26_2023-04-26.xlsx']"
      ]
     },
     "execution_count": 12,
     "metadata": {},
     "output_type": "execute_result"
    }
   ],
   "source": [
    "# 2. 유효성 검사를 한다.\n",
    "\n",
    "checked_file = []\n",
    "\n",
    "for check_date in check_date_list:\n",
    "    for file in 검색채널:\n",
    "        if check_date + '_' + check_date in file:\n",
    "            checked_file.append(file)\n",
    "\n",
    "checked_file"
   ]
  },
  {
   "cell_type": "code",
   "execution_count": 13,
   "metadata": {},
   "outputs": [
    {
     "name": "stderr",
     "output_type": "stream",
     "text": [
      "c:\\Users\\user\\AppData\\Local\\Programs\\Python\\Python38\\lib\\site-packages\\openpyxl\\styles\\stylesheet.py:226: UserWarning: Workbook contains no default style, apply openpyxl's default\n",
      "  warn(\"Workbook contains no default style, apply openpyxl's default\")\n"
     ]
    }
   ],
   "source": [
    "# 3. 전처리를 한다.\n",
    "\n",
    "for file in checked_file:\n",
    "    df = pd.read_excel(root_path + '/' + file)\n",
    "    df['날짜'] = file[5:15]\n",
    "    df.to_csv(root_path + '/dataSub/검색채널/' + file[:-5] + '.csv', encoding='cp949', index=False)\n",
    "    os.remove(root_path + '/' + file)"
   ]
  },
  {
   "cell_type": "code",
   "execution_count": 14,
   "metadata": {},
   "outputs": [],
   "source": [
    "# 4. db에 입력한다.\n",
    "\n",
    "conn = psycopg2.connect(host='115.68.228.168', user='postgres', password='cldngks', dbname='phytogether', port=5432)\n",
    "cursor = conn.cursor()\n",
    "\n",
    "\n",
    "preprocessed_file = os.listdir(root_path + '/dataSub/검색채널/')\n",
    "preprocessed_file.remove('DB입력완료')\n",
    "\n",
    "\n",
    "for file in preprocessed_file:\n",
    "    df = pd.read_csv(root_path + '/dataSub/검색채널/' + file, encoding='cp949')\n",
    "    data = df.values.tolist()\n",
    "    for d in data:\n",
    "        cursor.execute('INSERT INTO \"Naver_Search_Channel\" (\"A\", \"B\", \"C\", \"D\", \"E\", \"F\", \"G\", \"H\", \"I\", \"J\", \"K\", \"L\", \"M\", \"N\", \"O\", \"P\", \"yymmdd\") VALUES (%s, %s, %s, %s, %s, %s, %s, %s, %s, %s, %s, %s, %s, %s, %s, %s, %s)', d)\n",
    "\n",
    "\n",
    "    shutil.move(root_path + '/dataSub/검색채널/' + file, root_path + '/dataSub/검색채널/DB입력완료')\n",
    "\n",
    "conn.commit()\n",
    "conn.close()"
   ]
  },
  {
   "attachments": {},
   "cell_type": "markdown",
   "metadata": {},
   "source": [
    "# 네이버광고_계정1"
   ]
  },
  {
   "cell_type": "code",
   "execution_count": 16,
   "metadata": {},
   "outputs": [
    {
     "data": {
      "text/plain": [
       "['검색광고_운영관리팀,zero2one (94).csv']"
      ]
     },
     "execution_count": 16,
     "metadata": {},
     "output_type": "execute_result"
    }
   ],
   "source": [
    "# 1. 파일명이 '검색광고_운영관리팀,zero2one'으로 시작하는 파일을 읽는다.\n",
    "\n",
    "root_path = 'C:/dataHub'\n",
    "file_list = os.listdir(root_path)\n",
    "\n",
    "네이버광고_계정1 = [file for file in file_list if file.startswith('검색광고_운영관리팀,zero2one')]\n",
    "\n",
    "네이버광고_계정1"
   ]
  },
  {
   "cell_type": "code",
   "execution_count": 17,
   "metadata": {},
   "outputs": [
    {
     "name": "stdout",
     "output_type": "stream",
     "text": [
      "유효성 검사 및 전처리 완료\n"
     ]
    }
   ],
   "source": [
    "# 2. 유효성 검사를 한다.\n",
    "# 3. 전처리를 한다.\n",
    "\n",
    "if  len(네이버광고_계정1) == 1:\n",
    "\n",
    "    df = pd.read_csv(root_path + '/' + 네이버광고_계정1[0], skiprows=1, thousands = ',')\n",
    "    df['날짜'] = df['일별'].apply(lambda x: x.replace('.', '-')[0:-1])\n",
    "    df['계정'] = 'zero2one' \n",
    "\n",
    "    날짜 = sorted(df['날짜'].unique().tolist())\n",
    "    \n",
    "    if 날짜 == sorted(check_date_list):\n",
    "        df.to_csv(root_path + '/dataSub/네이버광고_계정1/' + 네이버광고_계정1[0], encoding='cp949', index=False)\n",
    "        os.remove(root_path + '/' + 네이버광고_계정1[0])\n",
    "        print('유효성 검사 및 전처리 완료')\n",
    "\n",
    "    else:\n",
    "        print('실행안됨 : 날짜가 맞지 않습니다.')\n",
    "else:\n",
    "    print('실행안됨 : dataHub에 파일이 없습니다.')"
   ]
  },
  {
   "cell_type": "code",
   "execution_count": 18,
   "metadata": {},
   "outputs": [],
   "source": [
    "# 4. db에 입력한다.\n",
    "\n",
    "conn = psycopg2.connect(host='115.68.228.168', user='postgres', password='cldngks', dbname='phytogether', port=5432)\n",
    "cursor = conn.cursor()\n",
    "\n",
    "\n",
    "preprocessed_file = os.listdir(root_path + '/dataSub/네이버광고_계정1/')\n",
    "preprocessed_file.remove('DB입력완료')\n",
    "\n",
    "\n",
    "if len(preprocessed_file) == 1:\n",
    "    df = pd.read_csv(root_path + '/dataSub/네이버광고_계정1/' + preprocessed_file[0], encoding='cp949')\n",
    "    data = df.values.tolist()\n",
    "    for d in data:\n",
    "        cursor.execute('INSERT INTO \"AD_Naver\" (\"A\", \"B\", \"C\", \"D\", \"E\", \"F\", \"G\", \"H\", \"I\", \"J\", \"K\", \"L\", \"M\", \"N\", \"O\", \"P\", \"Q\", \"R\", \"S\", \"T\", \"U\", \"V\", \"W\", \"X\", \"Y\", \"Z\", \"AA\", \"AB\", \"reg_date\", \"id\") VALUES (%s, %s, %s, %s, %s, %s, %s, %s, %s, %s, %s, %s, %s, %s, %s, %s, %s, %s, %s, %s, %s, %s, %s, %s, %s, %s, %s, %s, %s, %s)', d)\n",
    "\n",
    "\n",
    "    shutil.move(root_path + '/dataSub/네이버광고_계정1/' + preprocessed_file[0], root_path + '/dataSub/네이버광고_계정1/DB입력완료/' + preprocessed_file[0][0:-4] + datetime.date.today().isoformat() + '.csv')\n",
    "\n",
    "conn.commit()\n",
    "conn.close()"
   ]
  },
  {
   "attachments": {},
   "cell_type": "markdown",
   "metadata": {},
   "source": [
    "# 네이버광고_계정2"
   ]
  },
  {
   "cell_type": "code",
   "execution_count": 19,
   "metadata": {},
   "outputs": [
    {
     "data": {
      "text/plain": [
       "['[zero2one2]검색광고_운영관리팀,zero2one2 (95).csv']"
      ]
     },
     "execution_count": 19,
     "metadata": {},
     "output_type": "execute_result"
    }
   ],
   "source": [
    "# 1. 파일명이 '[zero2one2]검색광고_운영관리팀,zero2one2'으로 시작하는 파일을 읽는다.\n",
    "\n",
    "root_path = 'C:/dataHub'\n",
    "file_list = os.listdir(root_path)\n",
    "\n",
    "네이버광고_계정2 = [file for file in file_list if file.startswith('[zero2one2]검색광고_운영관리팀,zero2one2')]\n",
    "\n",
    "네이버광고_계정2"
   ]
  },
  {
   "cell_type": "code",
   "execution_count": 20,
   "metadata": {},
   "outputs": [
    {
     "name": "stdout",
     "output_type": "stream",
     "text": [
      "유효성 검사 및 전처리 완료\n"
     ]
    }
   ],
   "source": [
    "# 2. 유효성 검사를 한다.\n",
    "# 3. 전처리를 한다.\n",
    "\n",
    "if  len(네이버광고_계정2) == 1:\n",
    "\n",
    "    df = pd.read_csv(root_path + '/' + 네이버광고_계정2[0], skiprows=1, thousands = ',')\n",
    "    df['날짜'] = df['일별'].apply(lambda x: x.replace('.', '-')[0:-1])\n",
    "    df['계정'] = 'zero2one2'\n",
    "\n",
    "    날짜 = sorted(df['날짜'].unique().tolist())\n",
    "    \n",
    "    if 날짜 == sorted(check_date_list):\n",
    "        df.to_csv(root_path + '/dataSub/네이버광고_계정2/' + 네이버광고_계정2[0], encoding='cp949', index=False)\n",
    "        os.remove(root_path + '/' + 네이버광고_계정2[0])\n",
    "        print('유효성 검사 및 전처리 완료')\n",
    "\n",
    "    else:\n",
    "        print('실행안됨 : 날짜가 맞지 않습니다.')\n",
    "else:\n",
    "    print('실행안됨 : dataHub에 파일이 없습니다.')"
   ]
  },
  {
   "cell_type": "code",
   "execution_count": 21,
   "metadata": {},
   "outputs": [],
   "source": [
    "# 4. db에 입력한다.\n",
    "\n",
    "conn = psycopg2.connect(host='115.68.228.168', user='postgres', password='cldngks', dbname='phytogether', port=5432)\n",
    "cursor = conn.cursor()\n",
    "\n",
    "\n",
    "preprocessed_file = os.listdir(root_path + '/dataSub/네이버광고_계정2/')\n",
    "preprocessed_file.remove('DB입력완료')\n",
    "\n",
    "\n",
    "if len(preprocessed_file) == 1:\n",
    "    df = pd.read_csv(root_path + '/dataSub/네이버광고_계정2/' + preprocessed_file[0], encoding='cp949')\n",
    "    data = df.values.tolist()\n",
    "    for d in data:\n",
    "        cursor.execute('INSERT INTO \"AD_Naver\" (\"A\", \"B\", \"C\", \"D\", \"E\", \"F\", \"G\", \"H\", \"I\", \"J\", \"K\", \"L\", \"M\", \"N\", \"O\", \"P\", \"Q\", \"R\", \"S\", \"T\", \"U\", \"V\", \"W\", \"X\", \"Y\", \"Z\", \"AA\", \"AB\", \"reg_date\", \"id\") VALUES (%s, %s, %s, %s, %s, %s, %s, %s, %s, %s, %s, %s, %s, %s, %s, %s, %s, %s, %s, %s, %s, %s, %s, %s, %s, %s, %s, %s, %s, %s)', d)\n",
    "\n",
    "\n",
    "    shutil.move(root_path + '/dataSub/네이버광고_계정2/' + preprocessed_file[0], root_path + '/dataSub/네이버광고_계정2/DB입력완료/' + preprocessed_file[0][0:-4] + datetime.date.today().isoformat() + '.csv')\n",
    "\n",
    "conn.commit()\n",
    "conn.close()"
   ]
  },
  {
   "attachments": {},
   "cell_type": "markdown",
   "metadata": {},
   "source": [
    "# 네이버광고_계정3"
   ]
  },
  {
   "cell_type": "code",
   "execution_count": 22,
   "metadata": {},
   "outputs": [
    {
     "data": {
      "text/plain": [
       "['[zero2one3]일별광고보고서,zero2one3 (42).csv']"
      ]
     },
     "execution_count": 22,
     "metadata": {},
     "output_type": "execute_result"
    }
   ],
   "source": [
    "# 1. 파일명이 '[zero2one3]일별광고보고서,zero2one3'으로 시작하는 파일을 읽는다.\n",
    "\n",
    "root_path = 'C:/dataHub'\n",
    "file_list = os.listdir(root_path)\n",
    "\n",
    "네이버광고_계정3 = [file for file in file_list if file.startswith('[zero2one3]일별광고보고서,zero2one3')]\n",
    "\n",
    "네이버광고_계정3"
   ]
  },
  {
   "cell_type": "code",
   "execution_count": 23,
   "metadata": {},
   "outputs": [
    {
     "name": "stdout",
     "output_type": "stream",
     "text": [
      "유효성 검사 및 전처리 완료\n"
     ]
    }
   ],
   "source": [
    "# 2. 유효성 검사를 한다.\n",
    "# 3. 전처리를 한다.\n",
    "\n",
    "if  len(네이버광고_계정3) == 1:\n",
    "\n",
    "    df = pd.read_csv(root_path + '/' + 네이버광고_계정3[0], skiprows=1, thousands = ',')\n",
    "    df['날짜'] = df['일별'].apply(lambda x: x.replace('.', '-')[0:-1])\n",
    "    df['계정'] = 'zero2one3'\n",
    "\n",
    "    날짜 = sorted(df['날짜'].unique().tolist())\n",
    "    \n",
    "    if 날짜 == sorted(check_date_list):\n",
    "        df.to_csv(root_path + '/dataSub/네이버광고_계정3/' + 네이버광고_계정3[0], encoding='cp949', index=False)\n",
    "        os.remove(root_path + '/' + 네이버광고_계정3[0])\n",
    "        print('유효성 검사 및 전처리 완료')\n",
    "\n",
    "    else:\n",
    "        print('실행안됨 : 날짜가 맞지 않습니다.')\n",
    "else:\n",
    "    print('실행안됨 : dataHub에 파일이 없습니다.')"
   ]
  },
  {
   "cell_type": "code",
   "execution_count": 24,
   "metadata": {},
   "outputs": [],
   "source": [
    "# 4. db에 입력한다.\n",
    "\n",
    "conn = psycopg2.connect(host='115.68.228.168', user='postgres', password='cldngks', dbname='phytogether', port=5432)\n",
    "cursor = conn.cursor()\n",
    "\n",
    "\n",
    "preprocessed_file = os.listdir(root_path + '/dataSub/네이버광고_계정3/')\n",
    "preprocessed_file.remove('DB입력완료')\n",
    "\n",
    "\n",
    "if len(preprocessed_file) == 1:\n",
    "    df = pd.read_csv(root_path + '/dataSub/네이버광고_계정3/' + preprocessed_file[0], encoding='cp949')\n",
    "    data = df.values.tolist()\n",
    "    for d in data:\n",
    "        cursor.execute('INSERT INTO \"AD_Naver\" (\"A\", \"B\", \"C\", \"D\", \"E\", \"F\", \"G\", \"H\", \"I\", \"J\", \"K\", \"L\", \"M\", \"N\", \"O\", \"P\", \"Q\", \"R\", \"S\", \"T\", \"U\", \"V\", \"W\", \"X\", \"Y\", \"Z\", \"AA\", \"AB\", \"reg_date\", \"id\") VALUES (%s, %s, %s, %s, %s, %s, %s, %s, %s, %s, %s, %s, %s, %s, %s, %s, %s, %s, %s, %s, %s, %s, %s, %s, %s, %s, %s, %s, %s, %s)', d)\n",
    "\n",
    "\n",
    "    shutil.move(root_path + '/dataSub/네이버광고_계정3/' + preprocessed_file[0], root_path + '/dataSub/네이버광고_계정3/DB입력완료/' + preprocessed_file[0][0:-4] + datetime.date.today().isoformat() + '.csv')\n",
    "\n",
    "else:\n",
    "    print('파일 : ' + str(preprocessed_file))\n",
    "\n",
    "conn.commit()\n",
    "conn.close()"
   ]
  },
  {
   "attachments": {},
   "cell_type": "markdown",
   "metadata": {},
   "source": [
    "# 쿠팡광고_본계정_상품광고"
   ]
  },
  {
   "cell_type": "code",
   "execution_count": 27,
   "metadata": {},
   "outputs": [
    {
     "name": "stdout",
     "output_type": "stream",
     "text": [
      "유효성 검사 통과\n"
     ]
    }
   ],
   "source": [
    "# 1. 파일명에 'A00197911_pa_daily_keyword'이 들어간 파일을 읽는다.\n",
    "# 2. 유효성 검사를 한다.\n",
    "\n",
    "root_path = 'C:/dataHub'\n",
    "file_list = os.listdir(root_path)\n",
    "\n",
    "쿠팡광고_본계정_상품광고 = [file for file in file_list if 'A00197911_pa_daily_keyword' in file]\n",
    "\n",
    "if (len(쿠팡광고_본계정_상품광고) == 1) and ('A00197911_pa_daily_keyword' + '_' + min(check_date_list).replace('-', '') + '_' + max(check_date_list).replace('-', '') in 쿠팡광고_본계정_상품광고[0]):\n",
    "    checked_file = 쿠팡광고_본계정_상품광고[0]\n",
    "    print('유효성 검사 통과')\n",
    "\n",
    "else:\n",
    "    print('오류 발생. 확인해보세요')"
   ]
  },
  {
   "cell_type": "code",
   "execution_count": 29,
   "metadata": {},
   "outputs": [
    {
     "name": "stderr",
     "output_type": "stream",
     "text": [
      "c:\\Users\\user\\AppData\\Local\\Programs\\Python\\Python38\\lib\\site-packages\\openpyxl\\styles\\stylesheet.py:226: UserWarning: Workbook contains no default style, apply openpyxl's default\n",
      "  warn(\"Workbook contains no default style, apply openpyxl's default\")\n"
     ]
    }
   ],
   "source": [
    "# 3. 전처리를 한다.\n",
    "\n",
    "df = pd.read_excel(root_path + '/' + checked_file)\n",
    "df['reg_date'] =df['날짜'].astype(str)\n",
    "df['reg_date'] = df['reg_date'].apply(lambda x: x[0:4] + '-' + x[4:6] + '-' + x[6:8])\n",
    "df['account'] = 'A00197911'\n",
    "df = df.fillna('')\n",
    "\n",
    "numeric_cols = ['총광고수익률(1일)', '직접광고수익률(1일)', '간접광고수익률(1일)', '총광고수익률(14일)', '직접광고수익률(14일)', '간접광고수익률(14일)']\n",
    "\n",
    "for col in numeric_cols:\n",
    "    df[col] = pd.to_numeric(df[col].str.rstrip('%'))\n",
    "\n",
    "df = df.loc[:, [col for col in df.columns if col != '캠페인 ID']]\n",
    "\n",
    "\n",
    "df.to_csv(root_path + '/dataSub/쿠팡광고_본계정_상품광고/' + checked_file[0:-4] + '.csv', encoding='cp949', index=False)\n",
    "os.remove(root_path + '/' + checked_file)"
   ]
  },
  {
   "cell_type": "code",
   "execution_count": 30,
   "metadata": {},
   "outputs": [],
   "source": [
    "# 4. db에 입력한다.\n",
    "\n",
    "conn = psycopg2.connect(host='115.68.228.168', user='postgres', password='cldngks', dbname='phytogether', port=5432)\n",
    "cursor = conn.cursor()\n",
    "\n",
    "\n",
    "preprocessed_file = os.listdir(root_path + '/dataSub/쿠팡광고_본계정_상품광고/')\n",
    "preprocessed_file.remove('DB입력완료')\n",
    "\n",
    "\n",
    "if len(preprocessed_file) == 1:\n",
    "    df = pd.read_csv(root_path + '/dataSub/쿠팡광고_본계정_상품광고/' + preprocessed_file[0], encoding='cp949', keep_default_na=False)\n",
    "    data = df.values.tolist()\n",
    "    for d in data:\n",
    "        cursor.execute('INSERT INTO \"AD_Coupang\" (\"A\", \"B\", \"sales_type\", \"ad_type\", \"campaign\", \"ad_group\", \"product1\", \"product1_id\", \"product2\", \"product2_id\", \"adspace\", \"keyword\", \"impressions\", \"clicks\", \"adcost\", \"clickrate\", \"order_cnt\", \"R\", \"S\", \"out_qty\", \"U\", \"V\", \"gross\", \"X\", \"Y\", \"Z\", \"AA\", \"AB\", \"AC\", \"AD\", \"AE\", \"AF\", \"AG\", \"AH\", \"AI\", \"AJ\", \"AK\", \"AL\", \"AM\", \"AN\", \"AO\", \"AP\", \"reg_date\", \"account\") VALUES (%s, %s, %s, %s, %s, %s, %s, %s, %s, %s, %s, %s, %s, %s, %s, %s, %s, %s, %s, %s, %s, %s, %s, %s, %s, %s, %s, %s, %s, %s, %s, %s, %s, %s, %s, %s, %s, %s, %s, %s, %s, %s, %s, %s)', d)\n",
    "        \n",
    "\n",
    "    shutil.move(root_path + '/dataSub/쿠팡광고_본계정_상품광고/' + preprocessed_file[0], root_path + '/dataSub/쿠팡광고_본계정_상품광고/DB입력완료/' + preprocessed_file[0])\n",
    "\n",
    "else:\n",
    "    print('파일 : ' + str(preprocessed_file))\n",
    "\n",
    "conn.commit()\n",
    "conn.close()"
   ]
  },
  {
   "attachments": {},
   "cell_type": "markdown",
   "metadata": {},
   "source": [
    "# 쿠팡광고_본계정_브랜드광고"
   ]
  },
  {
   "cell_type": "code",
   "execution_count": null,
   "metadata": {},
   "outputs": [],
   "source": [
    "# 1. 파일명에 'A00197911_ba_daily_creative'이 들어간 파일을 읽는다.\n",
    "# 2. 유효성 검사를 한다.\n",
    "\n",
    "root_path = 'C:/dataHub'\n",
    "file_list = os.listdir(root_path)\n",
    "\n",
    "쿠팡광고_본계정_브랜드광고 = [file for file in file_list if 'A00197911_ba_daily_creative' in file]\n",
    "\n",
    "\n",
    "if (len(쿠팡광고_본계정_브랜드광고) == 1) and ('A00197911_ba_daily_creative' + '_' + min(check_date_list).replace('-', '') + '_' + max(check_date_list).replace('-', '') in 쿠팡광고_본계정_브랜드광고[0]):\n",
    "    checked_file = 쿠팡광고_본계정_브랜드광고[0]\n",
    "    print('유효성 검사 통과')\n",
    "\n",
    "else:\n",
    "    print('오류 발생. 확인해보세요')"
   ]
  },
  {
   "cell_type": "code",
   "execution_count": null,
   "metadata": {},
   "outputs": [],
   "source": [
    "# 3. 전처리를 한다.\n",
    "\n",
    "df = pd.read_excel(root_path + '/' + checked_file)\n",
    "df['reg_date'] =df['날짜'].astype(str)\n",
    "df['reg_date'] = df['reg_date'].apply(lambda x: x[0:4] + '-' + x[4:6] + '-' + x[6:8])\n",
    "df['account'] = 'A00197911'\n",
    "df = df.fillna('')\n",
    "\n",
    "numeric_cols = ['총광고수익률(1일)', '직접광고수익률(1일)', '간접광고수익률(1일)', '총광고수익률(14일)', '직접광고수익률(14일)', '간접광고수익률(14일)']\n",
    "\n",
    "for col in numeric_cols:\n",
    "    df[col] = pd.to_numeric(df[col].str.rstrip('%'))\n",
    "\n",
    "df = df.loc[:, [col for col in df.columns if col != '입찰유형']]\n",
    "\n",
    "\n",
    "df.to_csv(root_path + '/dataSub/쿠팡광고_본계정_브랜드광고/' + checked_file[0:-4] + '.csv', encoding='cp949', index=False)\n",
    "os.remove(root_path + '/' + checked_file)"
   ]
  },
  {
   "cell_type": "code",
   "execution_count": null,
   "metadata": {},
   "outputs": [],
   "source": [
    "# 4. db에 입력한다.\n",
    "\n",
    "conn = psycopg2.connect(host='115.68.228.168', user='postgres', password='cldngks', dbname='phytogether', port=5432)\n",
    "cursor = conn.cursor()\n",
    "\n",
    "\n",
    "preprocessed_file = os.listdir(root_path + '/dataSub/쿠팡광고_본계정_브랜드광고/')\n",
    "preprocessed_file.remove('DB입력완료')\n",
    "\n",
    "\n",
    "if len(preprocessed_file) == 1:\n",
    "    df = pd.read_csv(root_path + '/dataSub/쿠팡광고_본계정_브랜드광고/' + preprocessed_file[0], encoding='cp949', keep_default_na=False)\n",
    "    data = df.values.tolist()\n",
    "    for d in data:\n",
    "        cursor.execute('INSERT INTO \"AD_CoupangBrand\" (\"A\", \"B\", \"C\", \"D\", \"E\", \"campaign\", \"campaign_id\", \"ad_group\", \"group_id\", \"J\", \"template_type\", \"ad_id\", \"impressions_type\", \"source_type\", \"source\", \"source_id\", \"product\", \"option_id\", \"product2\", \"product2_id\", \"lp_type\", \"lp_name\", \"lp_id\", \"impression_keyword\", \"input_keyword\", \"keyword_type\", \"category\", \"impressions\", \"clicks\", \"clickrate\", \"adcost\", \"order_cnt\", \"AG\", \"AH\", \"out_qty\", \"AJ\", \"AK\", \"gross\", \"AM\", \"AN\", \"AO\", \"AP\", \"AQ\", \"AR\", \"AS\", \"AT\", \"AU\", \"AV\", \"AW\", \"AX\", \"AY\", \"AZ\", \"BA\", \"BB\", \"BC\", \"reg_date\", \"account\") VALUES (%s, %s, %s, %s, %s, %s, %s, %s, %s, %s, %s, %s, %s, %s, %s, %s, %s, %s, %s, %s, %s, %s, %s, %s, %s, %s, %s, %s, %s, %s, %s, %s, %s, %s, %s, %s, %s, %s, %s, %s, %s, %s, %s, %s, %s, %s, %s, %s, %s, %s, %s, %s, %s, %s, %s, %s, %s)', d)\n",
    "        \n",
    "\n",
    "    shutil.move(root_path + '/dataSub/쿠팡광고_본계정_브랜드광고/' + preprocessed_file[0], root_path + '/dataSub/쿠팡광고_본계정_브랜드광고/DB입력완료/' + preprocessed_file[0])\n",
    "\n",
    "else:\n",
    "    print('파일 : ' + str(preprocessed_file))\n",
    "\n",
    "conn.commit()\n",
    "conn.close()"
   ]
  },
  {
   "attachments": {},
   "cell_type": "markdown",
   "metadata": {},
   "source": [
    "# 쿠팡광고_서브계정_상품광고"
   ]
  },
  {
   "cell_type": "code",
   "execution_count": null,
   "metadata": {},
   "outputs": [],
   "source": [
    "# 1. 파일명에 'A00350733_pa_daily_keyword'이 들어간 파일을 읽는다.\n",
    "# 2. 유효성 검사를 한다.\n",
    "\n",
    "root_path = 'C:/dataHub'\n",
    "file_list = os.listdir(root_path)\n",
    "\n",
    "쿠팡광고_서브계정_상품광고 = [file for file in file_list if 'A00350733_pa_daily_keyword' in file]\n",
    "\n",
    "if (len(쿠팡광고_서브계정_상품광고) == 1) and ('A00350733_pa_daily_keyword' + '_' + min(check_date_list).replace('-', '') + '_' + max(check_date_list).replace('-', '') in 쿠팡광고_서브계정_상품광고[0]):\n",
    "    checked_file = 쿠팡광고_서브계정_상품광고[0]\n",
    "    print('유효성 검사 통과')\n",
    "\n",
    "else:\n",
    "    print('오류 발생. 확인해보세요')"
   ]
  },
  {
   "cell_type": "code",
   "execution_count": null,
   "metadata": {},
   "outputs": [],
   "source": [
    "# 3. 전처리를 한다.\n",
    "\n",
    "df = pd.read_excel(root_path + '/' + checked_file)\n",
    "df['reg_date'] =df['날짜'].astype(str)\n",
    "df['reg_date'] = df['reg_date'].apply(lambda x: x[0:4] + '-' + x[4:6] + '-' + x[6:8])\n",
    "df['account'] = 'A00350733'\n",
    "df = df.fillna('')\n",
    "\n",
    "numeric_cols = ['총광고수익률(1일)', '직접광고수익률(1일)', '간접광고수익률(1일)', '총광고수익률(14일)', '직접광고수익률(14일)', '간접광고수익률(14일)']\n",
    "\n",
    "for col in numeric_cols:\n",
    "    df[col] = pd.to_numeric(df[col].str.rstrip('%'))\n",
    "\n",
    "df = df.loc[:, [col for col in df.columns if col != '캠페인 ID']]\n",
    "\n",
    "\n",
    "df.to_csv(root_path + '/dataSub/쿠팡광고_서브계정_상품광고/' + checked_file[0:-4] + '.csv', encoding='cp949', index=False)\n",
    "os.remove(root_path + '/' + checked_file)"
   ]
  },
  {
   "cell_type": "code",
   "execution_count": null,
   "metadata": {},
   "outputs": [],
   "source": [
    "# 4. db에 입력한다.\n",
    "\n",
    "conn = psycopg2.connect(host='115.68.228.168', user='postgres', password='cldngks', dbname='phytogether', port=5432)\n",
    "cursor = conn.cursor()\n",
    "\n",
    "\n",
    "preprocessed_file = os.listdir(root_path + '/dataSub/쿠팡광고_서브계정_상품광고/')\n",
    "preprocessed_file.remove('DB입력완료')\n",
    "\n",
    "\n",
    "if len(preprocessed_file) == 1:\n",
    "    df = pd.read_csv(root_path + '/dataSub/쿠팡광고_서브계정_상품광고/' + preprocessed_file[0], encoding='cp949', keep_default_na=False)\n",
    "    data = df.values.tolist()\n",
    "    for d in data:\n",
    "        cursor.execute('INSERT INTO \"AD_Coupang\" (\"A\", \"B\", \"sales_type\", \"ad_type\", \"campaign\", \"ad_group\", \"product1\", \"product1_id\", \"product2\", \"product2_id\", \"adspace\", \"keyword\", \"impressions\", \"clicks\", \"adcost\", \"clickrate\", \"order_cnt\", \"R\", \"S\", \"out_qty\", \"U\", \"V\", \"gross\", \"X\", \"Y\", \"Z\", \"AA\", \"AB\", \"AC\", \"AD\", \"AE\", \"AF\", \"AG\", \"AH\", \"AI\", \"AJ\", \"AK\", \"AL\", \"AM\", \"AN\", \"AO\", \"AP\", \"reg_date\", \"account\") VALUES (%s, %s, %s, %s, %s, %s, %s, %s, %s, %s, %s, %s, %s, %s, %s, %s, %s, %s, %s, %s, %s, %s, %s, %s, %s, %s, %s, %s, %s, %s, %s, %s, %s, %s, %s, %s, %s, %s, %s, %s, %s, %s, %s, %s)', d)\n",
    "        \n",
    "\n",
    "    shutil.move(root_path + '/dataSub/쿠팡광고_서브계정_상품광고/' + preprocessed_file[0], root_path + '/dataSub/쿠팡광고_서브계정_상품광고/DB입력완료/' + preprocessed_file[0])\n",
    "\n",
    "else:\n",
    "    print('파일 : ' + str(preprocessed_file))\n",
    "\n",
    "conn.commit()\n",
    "conn.close()"
   ]
  }
 ],
 "metadata": {
  "kernelspec": {
   "display_name": "Python 3",
   "language": "python",
   "name": "python3"
  },
  "language_info": {
   "codemirror_mode": {
    "name": "ipython",
    "version": 3
   },
   "file_extension": ".py",
   "mimetype": "text/x-python",
   "name": "python",
   "nbconvert_exporter": "python",
   "pygments_lexer": "ipython3",
   "version": "3.8.10"
  },
  "orig_nbformat": 4
 },
 "nbformat": 4,
 "nbformat_minor": 2
}
