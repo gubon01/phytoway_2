{
 "cells": [
  {
   "cell_type": "code",
   "execution_count": 2,
   "metadata": {},
   "outputs": [],
   "source": [
    "import os\n",
    "import shutil\n",
    "import pandas as pd\n",
    "import csv\n",
    "import psycopg2\n",
    "import datetime"
   ]
  },
  {
   "cell_type": "code",
   "execution_count": null,
   "metadata": {},
   "outputs": [],
   "source": [
    "# 1. 파일명에 '사용자정의채널'이 들어간 파일을 읽는다.\n",
    "\n",
    "# 2. 유효성 검사를 한다.\n",
    "\n",
    "# 3. 전처리를 한다.\n",
    "\n",
    "# 4. db에 입력한다."
   ]
  },
  {
   "attachments": {},
   "cell_type": "markdown",
   "metadata": {},
   "source": [
    "# 사용자정의채널"
   ]
  },
  {
   "cell_type": "code",
   "execution_count": 2,
   "metadata": {},
   "outputs": [
    {
     "data": {
      "text/plain": [
       "['사용자정의채널_2023-04-25_2023-04-25.xlsx']"
      ]
     },
     "execution_count": 2,
     "metadata": {},
     "output_type": "execute_result"
    }
   ],
   "source": [
    "# 1. 파일명에 '사용자정의채널'이 들어간 파일을 읽는다.\n",
    "\n",
    "root_path = 'C:/dataHub'\n",
    "file_list = os.listdir(root_path)\n",
    "\n",
    "사용자정의채널 = [file for file in file_list if '사용자정의채널' in file]\n",
    "\n",
    "사용자정의채널"
   ]
  },
  {
   "cell_type": "code",
   "execution_count": 3,
   "metadata": {},
   "outputs": [
    {
     "data": {
      "text/plain": [
       "['사용자정의채널_2023-04-25_2023-04-25.xlsx']"
      ]
     },
     "execution_count": 3,
     "metadata": {},
     "output_type": "execute_result"
    }
   ],
   "source": [
    "# 2. 유효성 검사를 한다.\n",
    "\n",
    "checked_file = []\n",
    "check_date_list = ['2023-04-25']\n",
    "\n",
    "for check_date in check_date_list:\n",
    "    for file in 사용자정의채널:\n",
    "        if check_date + '_' + check_date in file:\n",
    "            checked_file.append(file)\n",
    "\n",
    "checked_file"
   ]
  },
  {
   "cell_type": "code",
   "execution_count": 4,
   "metadata": {},
   "outputs": [
    {
     "name": "stderr",
     "output_type": "stream",
     "text": [
      "c:\\Users\\나현중\\AppData\\Local\\Programs\\Python\\Python311\\Lib\\site-packages\\openpyxl\\styles\\stylesheet.py:226: UserWarning: Workbook contains no default style, apply openpyxl's default\n",
      "  warn(\"Workbook contains no default style, apply openpyxl's default\")\n"
     ]
    }
   ],
   "source": [
    "# 3. 전처리를 한다.\n",
    "\n",
    "for file in checked_file:\n",
    "    df = pd.read_excel(root_path + '/' + file)\n",
    "    df['날짜'] = file[8:18]\n",
    "    col_order = df.columns.to_list()[-1:] + df.columns.to_list()[0:-1]\n",
    "    df = df[col_order]\n",
    "    df.to_csv(root_path + '/dataSub/사용자정의채널/' + file[:-5] + '.csv', encoding='cp949', index=False)\n",
    "    os.remove(root_path + '/' + file)"
   ]
  },
  {
   "cell_type": "code",
   "execution_count": 5,
   "metadata": {},
   "outputs": [],
   "source": [
    "# 4. db에 입력한다.\n",
    "\n",
    "conn = psycopg2.connect(host='115.68.228.168', user='postgres', password='cldngks', dbname='phytogether', port=5432)\n",
    "cursor = conn.cursor()\n",
    "\n",
    "\n",
    "preprocessed_file = os.listdir(root_path + '/dataSub/사용자정의채널/')\n",
    "preprocessed_file.remove('DB입력완료')\n",
    "\n",
    "\n",
    "for file in preprocessed_file:\n",
    "    df = pd.read_csv(root_path + '/dataSub/사용자정의채널/' + file, encoding='cp949')\n",
    "    data = df.values.tolist()\n",
    "    for d in data:\n",
    "        cursor.execute('INSERT INTO \"Naver_Custom_Order\" (yymmdd, device, nt_source, nt_medium, nt_detail, nt_keyword, customer_cnt, inflow_cnt, page_cnt, page_inflow_cnt, order_cnt, order_inflow_per, order_price, order_inflow_price, contribute_cnt, contribute_inflow_per, contribute_price, contribute_inflow_price) VALUES (%s, %s, %s, %s, %s, %s, %s, %s, %s, %s, %s, %s, %s, %s, %s, %s, %s, %s)', d)\n",
    "\n",
    "\n",
    "    shutil.move(root_path + '/dataSub/사용자정의채널/' + file, root_path + '/dataSub/사용자정의채널/DB입력완료')\n",
    "\n",
    "conn.commit()\n",
    "conn.close()"
   ]
  },
  {
   "attachments": {},
   "cell_type": "markdown",
   "metadata": {},
   "source": [
    "# 검색채널"
   ]
  },
  {
   "cell_type": "code",
   "execution_count": 6,
   "metadata": {},
   "outputs": [
    {
     "data": {
      "text/plain": [
       "['검색채널_2023-04-25_2023-04-25.xlsx']"
      ]
     },
     "execution_count": 6,
     "metadata": {},
     "output_type": "execute_result"
    }
   ],
   "source": [
    "# 1. 파일명에 '검색채널'이 들어간 파일을 읽는다.\n",
    "\n",
    "root_path = 'C:/dataHub'\n",
    "file_list = os.listdir(root_path)\n",
    "\n",
    "검색채널 = [file for file in file_list if '검색채널' in file]\n",
    "\n",
    "검색채널"
   ]
  },
  {
   "cell_type": "code",
   "execution_count": 7,
   "metadata": {},
   "outputs": [
    {
     "data": {
      "text/plain": [
       "['검색채널_2023-04-25_2023-04-25.xlsx']"
      ]
     },
     "execution_count": 7,
     "metadata": {},
     "output_type": "execute_result"
    }
   ],
   "source": [
    "# 2. 유효성 검사를 한다.\n",
    "\n",
    "checked_file = []\n",
    "check_date_list = ['2023-04-25']\n",
    "\n",
    "for check_date in check_date_list:\n",
    "    for file in 검색채널:\n",
    "        if check_date + '_' + check_date in file:\n",
    "            checked_file.append(file)\n",
    "\n",
    "checked_file"
   ]
  },
  {
   "cell_type": "code",
   "execution_count": 8,
   "metadata": {},
   "outputs": [
    {
     "name": "stderr",
     "output_type": "stream",
     "text": [
      "c:\\Users\\나현중\\AppData\\Local\\Programs\\Python\\Python311\\Lib\\site-packages\\openpyxl\\styles\\stylesheet.py:226: UserWarning: Workbook contains no default style, apply openpyxl's default\n",
      "  warn(\"Workbook contains no default style, apply openpyxl's default\")\n"
     ]
    }
   ],
   "source": [
    "# 3. 전처리를 한다.\n",
    "\n",
    "for file in checked_file:\n",
    "    df = pd.read_excel(root_path + '/' + file)\n",
    "    df['날짜'] = file[5:15]\n",
    "    df.to_csv(root_path + '/dataSub/검색채널/' + file[:-5] + '.csv', encoding='cp949', index=False)\n",
    "    os.remove(root_path + '/' + file)"
   ]
  },
  {
   "cell_type": "code",
   "execution_count": 9,
   "metadata": {},
   "outputs": [],
   "source": [
    "# 4. db에 입력한다.\n",
    "\n",
    "conn = psycopg2.connect(host='115.68.228.168', user='postgres', password='cldngks', dbname='phytogether', port=5432)\n",
    "cursor = conn.cursor()\n",
    "\n",
    "\n",
    "preprocessed_file = os.listdir(root_path + '/dataSub/검색채널/')\n",
    "preprocessed_file.remove('DB입력완료')\n",
    "\n",
    "\n",
    "for file in preprocessed_file:\n",
    "    df = pd.read_csv(root_path + '/dataSub/검색채널/' + file, encoding='cp949')\n",
    "    data = df.values.tolist()\n",
    "    for d in data:\n",
    "        cursor.execute('INSERT INTO \"Naver_Search_Channel\" (\"A\", \"B\", \"C\", \"D\", \"E\", \"F\", \"G\", \"H\", \"I\", \"J\", \"K\", \"L\", \"M\", \"N\", \"O\", \"P\", \"yymmdd\") VALUES (%s, %s, %s, %s, %s, %s, %s, %s, %s, %s, %s, %s, %s, %s, %s, %s, %s)', d)\n",
    "\n",
    "\n",
    "    shutil.move(root_path + '/dataSub/검색채널/' + file, root_path + '/dataSub/검색채널/DB입력완료')\n",
    "\n",
    "conn.commit()\n",
    "conn.close()"
   ]
  },
  {
   "attachments": {},
   "cell_type": "markdown",
   "metadata": {},
   "source": [
    "# 네이버광고_계정1"
   ]
  },
  {
   "cell_type": "code",
   "execution_count": 10,
   "metadata": {},
   "outputs": [
    {
     "data": {
      "text/plain": [
       "['검색광고_운영관리팀,zero2one (3).csv']"
      ]
     },
     "execution_count": 10,
     "metadata": {},
     "output_type": "execute_result"
    }
   ],
   "source": [
    "# 1. 파일명이 '검색광고_운영관리팀,zero2one'으로 시작하는 파일을 읽는다.\n",
    "\n",
    "root_path = 'C:/dataHub'\n",
    "file_list = os.listdir(root_path)\n",
    "\n",
    "네이버광고_계정1 = [file for file in file_list if file.startswith('검색광고_운영관리팀,zero2one')]\n",
    "\n",
    "네이버광고_계정1"
   ]
  },
  {
   "cell_type": "code",
   "execution_count": 11,
   "metadata": {},
   "outputs": [
    {
     "name": "stdout",
     "output_type": "stream",
     "text": [
      "유효성 검사 및 전처리 완료\n"
     ]
    }
   ],
   "source": [
    "# 2. 유효성 검사를 한다.\n",
    "# 3. 전처리를 한다.\n",
    "\n",
    "check_date_list = ['2023-04-25']\n",
    "\n",
    "if  len(네이버광고_계정1) == 1:\n",
    "\n",
    "    df = pd.read_csv(root_path + '/' + 네이버광고_계정1[0], skiprows=1, thousands = ',')\n",
    "    df['날짜'] = df['일별'].apply(lambda x: x.replace('.', '-')[0:-1])\n",
    "    df['계정'] = 'zero2one'\n",
    "\n",
    "    \n",
    "\n",
    "    날짜 = sorted(df['날짜'].unique().tolist())\n",
    "    \n",
    "    if 날짜 == sorted(check_date_list):\n",
    "        df.to_csv(root_path + '/dataSub/네이버광고_계정1/' + 네이버광고_계정1[0], encoding='cp949', index=False)\n",
    "        os.remove(root_path + '/' + 네이버광고_계정1[0])\n",
    "        print('유효성 검사 및 전처리 완료')\n",
    "\n",
    "    else:\n",
    "        print('실행안됨 : 날짜가 맞지 않습니다.')\n",
    "else:\n",
    "    print('실행안됨 : dataHub에 파일이 없습니다.')"
   ]
  },
  {
   "cell_type": "code",
   "execution_count": 12,
   "metadata": {},
   "outputs": [],
   "source": [
    "# 4. db에 입력한다.\n",
    "\n",
    "conn = psycopg2.connect(host='115.68.228.168', user='postgres', password='cldngks', dbname='phytogether', port=5432)\n",
    "cursor = conn.cursor()\n",
    "\n",
    "\n",
    "preprocessed_file = os.listdir(root_path + '/dataSub/네이버광고_계정1/')\n",
    "preprocessed_file.remove('DB입력완료')\n",
    "\n",
    "\n",
    "if len(preprocessed_file) == 1:\n",
    "    df = pd.read_csv(root_path + '/dataSub/네이버광고_계정1/' + preprocessed_file[0], encoding='cp949')\n",
    "    data = df.values.tolist()\n",
    "    for d in data:\n",
    "        cursor.execute('INSERT INTO \"AD_Naver\" (\"A\", \"B\", \"C\", \"D\", \"E\", \"F\", \"G\", \"H\", \"I\", \"J\", \"K\", \"L\", \"M\", \"N\", \"O\", \"P\", \"Q\", \"R\", \"S\", \"T\", \"U\", \"V\", \"W\", \"X\", \"Y\", \"Z\", \"AA\", \"AB\", \"reg_date\", \"id\") VALUES (%s, %s, %s, %s, %s, %s, %s, %s, %s, %s, %s, %s, %s, %s, %s, %s, %s, %s, %s, %s, %s, %s, %s, %s, %s, %s, %s, %s, %s, %s)', d)\n",
    "\n",
    "\n",
    "    shutil.move(root_path + '/dataSub/네이버광고_계정1/' + preprocessed_file[0], root_path + '/dataSub/네이버광고_계정1/DB입력완료')\n",
    "\n",
    "conn.commit()\n",
    "conn.close()"
   ]
  },
  {
   "attachments": {},
   "cell_type": "markdown",
   "metadata": {},
   "source": [
    "# 네이버광고_계정2"
   ]
  },
  {
   "cell_type": "code",
   "execution_count": 14,
   "metadata": {},
   "outputs": [
    {
     "data": {
      "text/plain": [
       "['[zero2one2]검색광고_운영관리팀,zero2one2 (2).csv']"
      ]
     },
     "execution_count": 14,
     "metadata": {},
     "output_type": "execute_result"
    }
   ],
   "source": [
    "# 1. 파일명이 '[zero2one2]검색광고_운영관리팀,zero2one2'으로 시작하는 파일을 읽는다.\n",
    "\n",
    "root_path = 'C:/dataHub'\n",
    "file_list = os.listdir(root_path)\n",
    "\n",
    "네이버광고_계정2 = [file for file in file_list if file.startswith('[zero2one2]검색광고_운영관리팀,zero2one2')]\n",
    "\n",
    "네이버광고_계정2"
   ]
  },
  {
   "cell_type": "code",
   "execution_count": 32,
   "metadata": {},
   "outputs": [
    {
     "data": {
      "text/plain": [
       "'2023-04-26'"
      ]
     },
     "execution_count": 32,
     "metadata": {},
     "output_type": "execute_result"
    }
   ],
   "source": []
  },
  {
   "cell_type": "code",
   "execution_count": 15,
   "metadata": {},
   "outputs": [
    {
     "name": "stdout",
     "output_type": "stream",
     "text": [
      "유효성 검사 및 전처리 완료\n"
     ]
    }
   ],
   "source": [
    "# 2. 유효성 검사를 한다.\n",
    "# 3. 전처리를 한다.\n",
    "\n",
    "check_date_list = ['2023-04-25']\n",
    "\n",
    "if  len(네이버광고_계정2) == 1:\n",
    "\n",
    "    df = pd.read_csv(root_path + '/' + 네이버광고_계정2[0], skiprows=1, thousands = ',')\n",
    "    df['날짜'] = df['일별'].apply(lambda x: x.replace('.', '-')[0:-1])\n",
    "    df['계정'] = 'zero2one2'\n",
    "\n",
    "    날짜 = sorted(df['날짜'].unique().tolist())\n",
    "    \n",
    "    if 날짜 == sorted(check_date_list):\n",
    "        df.to_csv(root_path + '/dataSub/네이버광고_계정2/' + 네이버광고_계정2[0], encoding='cp949', index=False)\n",
    "        os.remove(root_path + '/' + 네이버광고_계정2[0])\n",
    "        print('유효성 검사 및 전처리 완료')\n",
    "\n",
    "    else:\n",
    "        print('실행안됨 : 날짜가 맞지 않습니다.')\n",
    "else:\n",
    "    print('실행안됨 : dataHub에 파일이 없습니다.')"
   ]
  },
  {
   "cell_type": "code",
   "execution_count": 23,
   "metadata": {},
   "outputs": [],
   "source": [
    "# 4. db에 입력한다.\n",
    "\n",
    "conn = psycopg2.connect(host='115.68.228.168', user='postgres', password='cldngks', dbname='phytogether', port=5432)\n",
    "cursor = conn.cursor()\n",
    "\n",
    "\n",
    "preprocessed_file = os.listdir(root_path + '/dataSub/네이버광고_계정2/')\n",
    "preprocessed_file.remove('DB입력완료')\n",
    "\n",
    "\n",
    "if len(preprocessed_file) == 1:\n",
    "    df = pd.read_csv(root_path + '/dataSub/네이버광고_계정2/' + preprocessed_file[0], encoding='cp949')\n",
    "    data = df.values.tolist()\n",
    "    for d in data:\n",
    "        cursor.execute('INSERT INTO \"AD_Naver\" (\"A\", \"B\", \"C\", \"D\", \"E\", \"F\", \"G\", \"H\", \"I\", \"J\", \"K\", \"L\", \"M\", \"N\", \"O\", \"P\", \"Q\", \"R\", \"S\", \"T\", \"U\", \"V\", \"W\", \"X\", \"Y\", \"Z\", \"AA\", \"AB\", \"reg_date\", \"id\") VALUES (%s, %s, %s, %s, %s, %s, %s, %s, %s, %s, %s, %s, %s, %s, %s, %s, %s, %s, %s, %s, %s, %s, %s, %s, %s, %s, %s, %s, %s, %s)', d)\n",
    "\n",
    "\n",
    "    shutil.move(root_path + '/dataSub/네이버광고_계정2/' + preprocessed_file[0], root_path + '/dataSub/네이버광고_계정2/DB입력완료/' + preprocessed_file[0][0:-4] + datetime.date.today().isoformat() + '.csv')\n",
    "\n",
    "conn.commit()\n",
    "conn.close()"
   ]
  },
  {
   "attachments": {},
   "cell_type": "markdown",
   "metadata": {},
   "source": [
    "# 네이버광고_계정3"
   ]
  },
  {
   "cell_type": "code",
   "execution_count": 33,
   "metadata": {},
   "outputs": [
    {
     "data": {
      "text/plain": [
       "['[zero2one3]일별광고보고서,zero2one3 (2).csv']"
      ]
     },
     "execution_count": 33,
     "metadata": {},
     "output_type": "execute_result"
    }
   ],
   "source": [
    "# 1. 파일명이 '[zero2one3]일별광고보고서,zero2one3'으로 시작하는 파일을 읽는다.\n",
    "\n",
    "root_path = 'C:/dataHub'\n",
    "file_list = os.listdir(root_path)\n",
    "\n",
    "네이버광고_계정3 = [file for file in file_list if file.startswith('[zero2one3]일별광고보고서,zero2one3')]\n",
    "\n",
    "네이버광고_계정3"
   ]
  },
  {
   "cell_type": "code",
   "execution_count": 34,
   "metadata": {},
   "outputs": [
    {
     "name": "stdout",
     "output_type": "stream",
     "text": [
      "유효성 검사 및 전처리 완료\n"
     ]
    }
   ],
   "source": [
    "# 2. 유효성 검사를 한다.\n",
    "# 3. 전처리를 한다.\n",
    "\n",
    "check_date_list = ['2023-04-25']\n",
    "\n",
    "if  len(네이버광고_계정3) == 1:\n",
    "\n",
    "    df = pd.read_csv(root_path + '/' + 네이버광고_계정3[0], skiprows=1, thousands = ',')\n",
    "    df['날짜'] = df['일별'].apply(lambda x: x.replace('.', '-')[0:-1])\n",
    "    df['계정'] = 'zero2one3'\n",
    "\n",
    "    날짜 = sorted(df['날짜'].unique().tolist())\n",
    "    \n",
    "    if 날짜 == sorted(check_date_list):\n",
    "        df.to_csv(root_path + '/dataSub/네이버광고_계정3/' + 네이버광고_계정3[0], encoding='cp949', index=False)\n",
    "        os.remove(root_path + '/' + 네이버광고_계정3[0])\n",
    "        print('유효성 검사 및 전처리 완료')\n",
    "\n",
    "    else:\n",
    "        print('실행안됨 : 날짜가 맞지 않습니다.')\n",
    "else:\n",
    "    print('실행안됨 : dataHub에 파일이 없습니다.')"
   ]
  },
  {
   "cell_type": "code",
   "execution_count": 35,
   "metadata": {},
   "outputs": [],
   "source": [
    "# 4. db에 입력한다.\n",
    "\n",
    "conn = psycopg2.connect(host='115.68.228.168', user='postgres', password='cldngks', dbname='phytogether', port=5432)\n",
    "cursor = conn.cursor()\n",
    "\n",
    "\n",
    "preprocessed_file = os.listdir(root_path + '/dataSub/네이버광고_계정3/')\n",
    "preprocessed_file.remove('DB입력완료')\n",
    "\n",
    "\n",
    "if len(preprocessed_file) == 1:\n",
    "    df = pd.read_csv(root_path + '/dataSub/네이버광고_계정3/' + preprocessed_file[0], encoding='cp949')\n",
    "    data = df.values.tolist()\n",
    "    for d in data:\n",
    "        cursor.execute('INSERT INTO \"AD_Naver\" (\"A\", \"B\", \"C\", \"D\", \"E\", \"F\", \"G\", \"H\", \"I\", \"J\", \"K\", \"L\", \"M\", \"N\", \"O\", \"P\", \"Q\", \"R\", \"S\", \"T\", \"U\", \"V\", \"W\", \"X\", \"Y\", \"Z\", \"AA\", \"AB\", \"reg_date\", \"id\") VALUES (%s, %s, %s, %s, %s, %s, %s, %s, %s, %s, %s, %s, %s, %s, %s, %s, %s, %s, %s, %s, %s, %s, %s, %s, %s, %s, %s, %s, %s, %s)', d)\n",
    "\n",
    "\n",
    "    shutil.move(root_path + '/dataSub/네이버광고_계정3/' + preprocessed_file[0], root_path + '/dataSub/네이버광고_계정3/DB입력완료/' + preprocessed_file[0][0:-4] + datetime.date.today().isoformat() + '.csv')\n",
    "\n",
    "else:\n",
    "    print('파일 : ' + str(preprocessed_file))\n",
    "\n",
    "conn.commit()\n",
    "conn.close()"
   ]
  },
  {
   "attachments": {},
   "cell_type": "markdown",
   "metadata": {},
   "source": [
    "# 쿠팡광고_본계정_상품광고"
   ]
  },
  {
   "cell_type": "code",
   "execution_count": 64,
   "metadata": {},
   "outputs": [
    {
     "name": "stdout",
     "output_type": "stream",
     "text": [
      "유효성 검사 통과\n"
     ]
    }
   ],
   "source": [
    "# 1. 파일명에 'A00197911_pa_daily_keyword'이 들어간 파일을 읽는다.\n",
    "# 2. 유효성 검사를 한다.\n",
    "\n",
    "root_path = 'C:/dataHub'\n",
    "file_list = os.listdir(root_path)\n",
    "\n",
    "쿠팡광고_본계정_상품광고 = [file for file in file_list if 'A00197911_pa_daily_keyword' in file]\n",
    "\n",
    "check_date_list = ['2023-04-25']\n",
    "\n",
    "if (len(쿠팡광고_본계정_상품광고) == 1) and ('A00197911_pa_daily_keyword' + '_' + min(check_date_list).replace('-', '') + '_' + max(check_date_list).replace('-', '') in 쿠팡광고_본계정_상품광고[0]):\n",
    "    checked_file = 쿠팡광고_본계정_상품광고[0]\n",
    "    print('유효성 검사 통과')\n",
    "\n",
    "else:\n",
    "    print('오류 발생. 확인해보세요')"
   ]
  },
  {
   "cell_type": "code",
   "execution_count": 65,
   "metadata": {},
   "outputs": [
    {
     "name": "stderr",
     "output_type": "stream",
     "text": [
      "c:\\Users\\나현중\\AppData\\Local\\Programs\\Python\\Python311\\Lib\\site-packages\\openpyxl\\styles\\stylesheet.py:226: UserWarning: Workbook contains no default style, apply openpyxl's default\n",
      "  warn(\"Workbook contains no default style, apply openpyxl's default\")\n"
     ]
    }
   ],
   "source": [
    "# 3. 전처리를 한다.\n",
    "\n",
    "df = pd.read_excel(root_path + '/' + checked_file)\n",
    "df['reg_date'] =df['날짜'].astype(str)\n",
    "df['reg_date'] = df['reg_date'].apply(lambda x: x[0:4] + '-' + x[4:6] + '-' + x[6:8])\n",
    "df['account'] = 'A00197911'\n",
    "df = df.fillna('')\n",
    "\n",
    "numeric_cols = ['총광고수익률(1일)', '직접광고수익률(1일)', '간접광고수익률(1일)', '총광고수익률(14일)', '직접광고수익률(14일)', '간접광고수익률(14일)']\n",
    "\n",
    "for col in numeric_cols:\n",
    "    df[col] = pd.to_numeric(df[col].str.rstrip('%'))\n",
    "\n",
    "df = df.loc[:, [col for col in df.columns if col != '캠페인 ID']]\n",
    "\n",
    "\n",
    "df.to_csv(root_path + '/dataSub/쿠팡광고_본계정_상품광고/' + checked_file[0:-4] + '.csv', encoding='cp949', index=False)\n",
    "os.remove(root_path + '/' + checked_file)"
   ]
  },
  {
   "cell_type": "code",
   "execution_count": 66,
   "metadata": {},
   "outputs": [],
   "source": [
    "# 4. db에 입력한다.\n",
    "\n",
    "conn = psycopg2.connect(host='115.68.228.168', user='postgres', password='cldngks', dbname='phytogether', port=5432)\n",
    "cursor = conn.cursor()\n",
    "\n",
    "\n",
    "preprocessed_file = os.listdir(root_path + '/dataSub/쿠팡광고_본계정_상품광고/')\n",
    "preprocessed_file.remove('DB입력완료')\n",
    "\n",
    "\n",
    "if len(preprocessed_file) == 1:\n",
    "    df = pd.read_csv(root_path + '/dataSub/쿠팡광고_본계정_상품광고/' + preprocessed_file[0], encoding='cp949', keep_default_na=False)\n",
    "    data = df.values.tolist()\n",
    "    for d in data:\n",
    "        cursor.execute('INSERT INTO \"AD_Coupang\" (\"A\", \"B\", \"sales_type\", \"ad_type\", \"campaign\", \"ad_group\", \"product1\", \"product1_id\", \"product2\", \"product2_id\", \"adspace\", \"keyword\", \"impressions\", \"clicks\", \"adcost\", \"clickrate\", \"order_cnt\", \"R\", \"S\", \"out_qty\", \"U\", \"V\", \"gross\", \"X\", \"Y\", \"Z\", \"AA\", \"AB\", \"AC\", \"AD\", \"AE\", \"AF\", \"AG\", \"AH\", \"AI\", \"AJ\", \"AK\", \"AL\", \"AM\", \"AN\", \"AO\", \"AP\", \"reg_date\", \"account\") VALUES (%s, %s, %s, %s, %s, %s, %s, %s, %s, %s, %s, %s, %s, %s, %s, %s, %s, %s, %s, %s, %s, %s, %s, %s, %s, %s, %s, %s, %s, %s, %s, %s, %s, %s, %s, %s, %s, %s, %s, %s, %s, %s, %s, %s)', d)\n",
    "        \n",
    "\n",
    "    shutil.move(root_path + '/dataSub/쿠팡광고_본계정_상품광고/' + preprocessed_file[0], root_path + '/dataSub/쿠팡광고_본계정_상품광고/DB입력완료/' + preprocessed_file[0])\n",
    "\n",
    "else:\n",
    "    print('파일 : ' + str(preprocessed_file))\n",
    "\n",
    "conn.commit()\n",
    "conn.close()"
   ]
  },
  {
   "cell_type": "code",
   "execution_count": 59,
   "metadata": {},
   "outputs": [
    {
     "data": {
      "text/html": [
       "<div>\n",
       "<style scoped>\n",
       "    .dataframe tbody tr th:only-of-type {\n",
       "        vertical-align: middle;\n",
       "    }\n",
       "\n",
       "    .dataframe tbody tr th {\n",
       "        vertical-align: top;\n",
       "    }\n",
       "\n",
       "    .dataframe thead th {\n",
       "        text-align: right;\n",
       "    }\n",
       "</style>\n",
       "<table border=\"1\" class=\"dataframe\">\n",
       "  <thead>\n",
       "    <tr style=\"text-align: right;\">\n",
       "      <th></th>\n",
       "      <th>날짜</th>\n",
       "      <th>입찰유형</th>\n",
       "      <th>판매방식</th>\n",
       "      <th>광고유형</th>\n",
       "      <th>캠페인명</th>\n",
       "      <th>광고그룹</th>\n",
       "      <th>광고집행 상품명</th>\n",
       "      <th>광고집행 옵션ID</th>\n",
       "      <th>광고전환매출발생 상품명</th>\n",
       "      <th>광고전환매출발생 옵션ID</th>\n",
       "      <th>...</th>\n",
       "      <th>총광고수익률(1일)</th>\n",
       "      <th>직접광고수익률(1일)</th>\n",
       "      <th>간접광고수익률(1일)</th>\n",
       "      <th>총광고수익률(14일)</th>\n",
       "      <th>직접광고수익률(14일)</th>\n",
       "      <th>간접광고수익률(14일)</th>\n",
       "      <th>캠페인 시작일</th>\n",
       "      <th>캠페인 종료일</th>\n",
       "      <th>reg_date</th>\n",
       "      <th>account</th>\n",
       "    </tr>\n",
       "  </thead>\n",
       "  <tbody>\n",
       "    <tr>\n",
       "      <th>0</th>\n",
       "      <td>20230425</td>\n",
       "      <td>cpc</td>\n",
       "      <td>3P</td>\n",
       "      <td>수동 성과형</td>\n",
       "      <td>판토모나 하이퍼포머_수동 성과형 (일반)</td>\n",
       "      <td>일반키워드그룹</td>\n",
       "      <td>판토모나 비오틴 하이퍼포머,240정,3박스</td>\n",
       "      <td>5456714771</td>\n",
       "      <td>판토모나 비오틴 하이퍼포머,240정,3박스</td>\n",
       "      <td>5456714771</td>\n",
       "      <td>...</td>\n",
       "      <td>0.00</td>\n",
       "      <td>0.00</td>\n",
       "      <td>0.0</td>\n",
       "      <td>0.00</td>\n",
       "      <td>0.00</td>\n",
       "      <td>0.0</td>\n",
       "      <td>2019.11.12</td>\n",
       "      <td>NaN</td>\n",
       "      <td>2023-04-25</td>\n",
       "      <td>A00197911</td>\n",
       "    </tr>\n",
       "    <tr>\n",
       "      <th>1</th>\n",
       "      <td>20230425</td>\n",
       "      <td>cpc</td>\n",
       "      <td>3P</td>\n",
       "      <td>수동 성과형</td>\n",
       "      <td>판토모나 하이퍼포머_수동 성과형 (일반)</td>\n",
       "      <td>일반키워드그룹</td>\n",
       "      <td>판토모나 비오틴 하이퍼포머 최적 배합  판토텐산 L시스틴 맥주효모 엽산 아연 셀레늄...</td>\n",
       "      <td>5591035825</td>\n",
       "      <td>판토모나 비오틴 하이퍼포머,240정,3박스</td>\n",
       "      <td>5456714771</td>\n",
       "      <td>...</td>\n",
       "      <td>0.00</td>\n",
       "      <td>0.00</td>\n",
       "      <td>0.0</td>\n",
       "      <td>0.00</td>\n",
       "      <td>0.00</td>\n",
       "      <td>0.0</td>\n",
       "      <td>2019.11.12</td>\n",
       "      <td>NaN</td>\n",
       "      <td>2023-04-25</td>\n",
       "      <td>A00197911</td>\n",
       "    </tr>\n",
       "    <tr>\n",
       "      <th>2</th>\n",
       "      <td>20230425</td>\n",
       "      <td>cpc</td>\n",
       "      <td>3P</td>\n",
       "      <td>수동 성과형</td>\n",
       "      <td>판토모나 하이퍼포머_수동 성과형 (일반)</td>\n",
       "      <td>일반키워드그룹</td>\n",
       "      <td>판토모나 비오틴 하이퍼포머 최적 배합  판토텐산 L시스틴 맥주효모 엽산 아연 셀레늄...</td>\n",
       "      <td>5591035825</td>\n",
       "      <td>판토모나 비오틴 하이퍼포머 최적 배합  판토텐산 L시스틴 맥주효모 엽산 아연 셀레늄...</td>\n",
       "      <td>5591035825</td>\n",
       "      <td>...</td>\n",
       "      <td>0.00</td>\n",
       "      <td>0.00</td>\n",
       "      <td>0.0</td>\n",
       "      <td>0.00</td>\n",
       "      <td>0.00</td>\n",
       "      <td>0.0</td>\n",
       "      <td>2019.11.12</td>\n",
       "      <td>NaN</td>\n",
       "      <td>2023-04-25</td>\n",
       "      <td>A00197911</td>\n",
       "    </tr>\n",
       "    <tr>\n",
       "      <th>3</th>\n",
       "      <td>20230425</td>\n",
       "      <td>cpc</td>\n",
       "      <td>3P</td>\n",
       "      <td>수동 성과형</td>\n",
       "      <td>판토모나 하이퍼포머_수동 성과형 (일반)</td>\n",
       "      <td>일반키워드그룹</td>\n",
       "      <td>판토모나 비오틴 하이퍼포머,240정,3박스</td>\n",
       "      <td>5456714771</td>\n",
       "      <td>판토모나 비오틴 하이퍼포머,240정,3박스</td>\n",
       "      <td>5456714771</td>\n",
       "      <td>...</td>\n",
       "      <td>0.00</td>\n",
       "      <td>0.00</td>\n",
       "      <td>0.0</td>\n",
       "      <td>0.00</td>\n",
       "      <td>0.00</td>\n",
       "      <td>0.0</td>\n",
       "      <td>2019.11.12</td>\n",
       "      <td>NaN</td>\n",
       "      <td>2023-04-25</td>\n",
       "      <td>A00197911</td>\n",
       "    </tr>\n",
       "    <tr>\n",
       "      <th>4</th>\n",
       "      <td>20230425</td>\n",
       "      <td>cpc</td>\n",
       "      <td>3P</td>\n",
       "      <td>수동 성과형</td>\n",
       "      <td>판토모나 하이퍼포머_수동 성과형 (일반)</td>\n",
       "      <td>일반키워드그룹</td>\n",
       "      <td>판토모나 비오틴 하이퍼포머,240정,3박스</td>\n",
       "      <td>5456714771</td>\n",
       "      <td>판토모나 비오틴 하이퍼포머,240정,3박스</td>\n",
       "      <td>5456714771</td>\n",
       "      <td>...</td>\n",
       "      <td>0.00</td>\n",
       "      <td>0.00</td>\n",
       "      <td>0.0</td>\n",
       "      <td>0.00</td>\n",
       "      <td>0.00</td>\n",
       "      <td>0.0</td>\n",
       "      <td>2019.11.12</td>\n",
       "      <td>NaN</td>\n",
       "      <td>2023-04-25</td>\n",
       "      <td>A00197911</td>\n",
       "    </tr>\n",
       "    <tr>\n",
       "      <th>...</th>\n",
       "      <td>...</td>\n",
       "      <td>...</td>\n",
       "      <td>...</td>\n",
       "      <td>...</td>\n",
       "      <td>...</td>\n",
       "      <td>...</td>\n",
       "      <td>...</td>\n",
       "      <td>...</td>\n",
       "      <td>...</td>\n",
       "      <td>...</td>\n",
       "      <td>...</td>\n",
       "      <td>...</td>\n",
       "      <td>...</td>\n",
       "      <td>...</td>\n",
       "      <td>...</td>\n",
       "      <td>...</td>\n",
       "      <td>...</td>\n",
       "      <td>...</td>\n",
       "      <td>...</td>\n",
       "      <td>...</td>\n",
       "      <td>...</td>\n",
       "    </tr>\n",
       "    <tr>\n",
       "      <th>372</th>\n",
       "      <td>20230425</td>\n",
       "      <td>cpc</td>\n",
       "      <td>3P</td>\n",
       "      <td>매출 최적화</td>\n",
       "      <td>트리플마그네슘(3p + 제트)_매출 최적화 2</td>\n",
       "      <td>새 광고 그룹</td>\n",
       "      <td>파이토웨이 트리플 마그네슘 신경, 근육, 에너지 3중 복합 케어 비타민B6,60정,1개</td>\n",
       "      <td>78206305759</td>\n",
       "      <td>파이토웨이 트리플 마그네슘 신경, 근육, 에너지 3중 복합 케어 비타민B6,60정,1개</td>\n",
       "      <td>78206305759</td>\n",
       "      <td>...</td>\n",
       "      <td>122.43</td>\n",
       "      <td>122.43</td>\n",
       "      <td>0.0</td>\n",
       "      <td>122.43</td>\n",
       "      <td>122.43</td>\n",
       "      <td>0.0</td>\n",
       "      <td>2023.04.24</td>\n",
       "      <td>NaN</td>\n",
       "      <td>2023-04-25</td>\n",
       "      <td>A00197911</td>\n",
       "    </tr>\n",
       "    <tr>\n",
       "      <th>373</th>\n",
       "      <td>20230425</td>\n",
       "      <td>cpc</td>\n",
       "      <td>3P</td>\n",
       "      <td>매출 최적화</td>\n",
       "      <td>트리플마그네슘(3p + 제트)_매출 최적화 2</td>\n",
       "      <td>새 광고 그룹</td>\n",
       "      <td>파이토웨이 트리플 마그네슘 신경, 근육, 에너지 3중 복합 케어 비타민B6,60정,2개</td>\n",
       "      <td>77396981998</td>\n",
       "      <td>파이토웨이 트리플 마그네슘 신경, 근육, 에너지 3중 복합 케어 비타민B6,60정,2개</td>\n",
       "      <td>77396981998</td>\n",
       "      <td>...</td>\n",
       "      <td>0.00</td>\n",
       "      <td>0.00</td>\n",
       "      <td>0.0</td>\n",
       "      <td>0.00</td>\n",
       "      <td>0.00</td>\n",
       "      <td>0.0</td>\n",
       "      <td>2023.04.24</td>\n",
       "      <td>NaN</td>\n",
       "      <td>2023-04-25</td>\n",
       "      <td>A00197911</td>\n",
       "    </tr>\n",
       "    <tr>\n",
       "      <th>374</th>\n",
       "      <td>20230425</td>\n",
       "      <td>cpc</td>\n",
       "      <td>3P</td>\n",
       "      <td>매출 최적화</td>\n",
       "      <td>트리플마그네슘(3p + 제트)_매출 최적화 2</td>\n",
       "      <td>새 광고 그룹</td>\n",
       "      <td>파이토웨이 트리플 마그네슘 신경, 근육, 에너지 3중 복합 케어 비타민B6,60정,2개</td>\n",
       "      <td>77396981998</td>\n",
       "      <td>파이토웨이 트리플 마그네슘 신경, 근육, 에너지 3중 복합 케어 비타민B6,60정,2개</td>\n",
       "      <td>77396981998</td>\n",
       "      <td>...</td>\n",
       "      <td>0.00</td>\n",
       "      <td>0.00</td>\n",
       "      <td>0.0</td>\n",
       "      <td>0.00</td>\n",
       "      <td>0.00</td>\n",
       "      <td>0.0</td>\n",
       "      <td>2023.04.24</td>\n",
       "      <td>NaN</td>\n",
       "      <td>2023-04-25</td>\n",
       "      <td>A00197911</td>\n",
       "    </tr>\n",
       "    <tr>\n",
       "      <th>375</th>\n",
       "      <td>20230425</td>\n",
       "      <td>cpc</td>\n",
       "      <td>3P</td>\n",
       "      <td>매출 최적화</td>\n",
       "      <td>트리플마그네슘(3p + 제트)_매출 최적화 2</td>\n",
       "      <td>새 광고 그룹</td>\n",
       "      <td>파이토웨이 트리플 마그네슘 신경, 근육, 에너지 3중 복합 케어 비타민B6,60정,2개</td>\n",
       "      <td>77396981998</td>\n",
       "      <td>파이토웨이 트리플 마그네슘 신경, 근육, 에너지 3중 복합 케어 비타민B6,60정,2개</td>\n",
       "      <td>77396981998</td>\n",
       "      <td>...</td>\n",
       "      <td>0.00</td>\n",
       "      <td>0.00</td>\n",
       "      <td>0.0</td>\n",
       "      <td>0.00</td>\n",
       "      <td>0.00</td>\n",
       "      <td>0.0</td>\n",
       "      <td>2023.04.24</td>\n",
       "      <td>NaN</td>\n",
       "      <td>2023-04-25</td>\n",
       "      <td>A00197911</td>\n",
       "    </tr>\n",
       "    <tr>\n",
       "      <th>376</th>\n",
       "      <td>20230425</td>\n",
       "      <td>cpc</td>\n",
       "      <td>3P</td>\n",
       "      <td>매출 최적화</td>\n",
       "      <td>트리플마그네슘(3p + 제트)_매출 최적화 2</td>\n",
       "      <td>새 광고 그룹</td>\n",
       "      <td>파이토웨이 트리플 마그네슘 신경, 근육, 에너지 3중 복합 케어 비타민B6,60정,1개</td>\n",
       "      <td>78206305759</td>\n",
       "      <td>파이토웨이 트리플 마그네슘 신경, 근육, 에너지 3중 복합 케어 비타민B6,60정,1개</td>\n",
       "      <td>78206305759</td>\n",
       "      <td>...</td>\n",
       "      <td>5846.50</td>\n",
       "      <td>5846.50</td>\n",
       "      <td>0.0</td>\n",
       "      <td>5846.50</td>\n",
       "      <td>5846.50</td>\n",
       "      <td>0.0</td>\n",
       "      <td>2023.04.24</td>\n",
       "      <td>NaN</td>\n",
       "      <td>2023-04-25</td>\n",
       "      <td>A00197911</td>\n",
       "    </tr>\n",
       "  </tbody>\n",
       "</table>\n",
       "<p>377 rows × 44 columns</p>\n",
       "</div>"
      ],
      "text/plain": [
       "           날짜 입찰유형 판매방식    광고유형                       캠페인명     광고그룹  \\\n",
       "0    20230425  cpc   3P  수동 성과형     판토모나 하이퍼포머_수동 성과형 (일반)  일반키워드그룹   \n",
       "1    20230425  cpc   3P  수동 성과형     판토모나 하이퍼포머_수동 성과형 (일반)  일반키워드그룹   \n",
       "2    20230425  cpc   3P  수동 성과형     판토모나 하이퍼포머_수동 성과형 (일반)  일반키워드그룹   \n",
       "3    20230425  cpc   3P  수동 성과형     판토모나 하이퍼포머_수동 성과형 (일반)  일반키워드그룹   \n",
       "4    20230425  cpc   3P  수동 성과형     판토모나 하이퍼포머_수동 성과형 (일반)  일반키워드그룹   \n",
       "..        ...  ...  ...     ...                        ...      ...   \n",
       "372  20230425  cpc   3P  매출 최적화  트리플마그네슘(3p + 제트)_매출 최적화 2  새 광고 그룹   \n",
       "373  20230425  cpc   3P  매출 최적화  트리플마그네슘(3p + 제트)_매출 최적화 2  새 광고 그룹   \n",
       "374  20230425  cpc   3P  매출 최적화  트리플마그네슘(3p + 제트)_매출 최적화 2  새 광고 그룹   \n",
       "375  20230425  cpc   3P  매출 최적화  트리플마그네슘(3p + 제트)_매출 최적화 2  새 광고 그룹   \n",
       "376  20230425  cpc   3P  매출 최적화  트리플마그네슘(3p + 제트)_매출 최적화 2  새 광고 그룹   \n",
       "\n",
       "                                              광고집행 상품명    광고집행 옵션ID  \\\n",
       "0                              판토모나 비오틴 하이퍼포머,240정,3박스   5456714771   \n",
       "1    판토모나 비오틴 하이퍼포머 최적 배합  판토텐산 L시스틴 맥주효모 엽산 아연 셀레늄...   5591035825   \n",
       "2    판토모나 비오틴 하이퍼포머 최적 배합  판토텐산 L시스틴 맥주효모 엽산 아연 셀레늄...   5591035825   \n",
       "3                              판토모나 비오틴 하이퍼포머,240정,3박스   5456714771   \n",
       "4                              판토모나 비오틴 하이퍼포머,240정,3박스   5456714771   \n",
       "..                                                 ...          ...   \n",
       "372   파이토웨이 트리플 마그네슘 신경, 근육, 에너지 3중 복합 케어 비타민B6,60정,1개  78206305759   \n",
       "373   파이토웨이 트리플 마그네슘 신경, 근육, 에너지 3중 복합 케어 비타민B6,60정,2개  77396981998   \n",
       "374   파이토웨이 트리플 마그네슘 신경, 근육, 에너지 3중 복합 케어 비타민B6,60정,2개  77396981998   \n",
       "375   파이토웨이 트리플 마그네슘 신경, 근육, 에너지 3중 복합 케어 비타민B6,60정,2개  77396981998   \n",
       "376   파이토웨이 트리플 마그네슘 신경, 근육, 에너지 3중 복합 케어 비타민B6,60정,1개  78206305759   \n",
       "\n",
       "                                          광고전환매출발생 상품명  광고전환매출발생 옵션ID  ...  \\\n",
       "0                              판토모나 비오틴 하이퍼포머,240정,3박스     5456714771  ...   \n",
       "1                              판토모나 비오틴 하이퍼포머,240정,3박스     5456714771  ...   \n",
       "2    판토모나 비오틴 하이퍼포머 최적 배합  판토텐산 L시스틴 맥주효모 엽산 아연 셀레늄...     5591035825  ...   \n",
       "3                              판토모나 비오틴 하이퍼포머,240정,3박스     5456714771  ...   \n",
       "4                              판토모나 비오틴 하이퍼포머,240정,3박스     5456714771  ...   \n",
       "..                                                 ...            ...  ...   \n",
       "372   파이토웨이 트리플 마그네슘 신경, 근육, 에너지 3중 복합 케어 비타민B6,60정,1개    78206305759  ...   \n",
       "373   파이토웨이 트리플 마그네슘 신경, 근육, 에너지 3중 복합 케어 비타민B6,60정,2개    77396981998  ...   \n",
       "374   파이토웨이 트리플 마그네슘 신경, 근육, 에너지 3중 복합 케어 비타민B6,60정,2개    77396981998  ...   \n",
       "375   파이토웨이 트리플 마그네슘 신경, 근육, 에너지 3중 복합 케어 비타민B6,60정,2개    77396981998  ...   \n",
       "376   파이토웨이 트리플 마그네슘 신경, 근육, 에너지 3중 복합 케어 비타민B6,60정,1개    78206305759  ...   \n",
       "\n",
       "    총광고수익률(1일) 직접광고수익률(1일)  간접광고수익률(1일)  총광고수익률(14일)  직접광고수익률(14일)  \\\n",
       "0         0.00        0.00          0.0         0.00          0.00   \n",
       "1         0.00        0.00          0.0         0.00          0.00   \n",
       "2         0.00        0.00          0.0         0.00          0.00   \n",
       "3         0.00        0.00          0.0         0.00          0.00   \n",
       "4         0.00        0.00          0.0         0.00          0.00   \n",
       "..         ...         ...          ...          ...           ...   \n",
       "372     122.43      122.43          0.0       122.43        122.43   \n",
       "373       0.00        0.00          0.0         0.00          0.00   \n",
       "374       0.00        0.00          0.0         0.00          0.00   \n",
       "375       0.00        0.00          0.0         0.00          0.00   \n",
       "376    5846.50     5846.50          0.0      5846.50       5846.50   \n",
       "\n",
       "     간접광고수익률(14일)     캠페인 시작일  캠페인 종료일    reg_date    account  \n",
       "0             0.0  2019.11.12      NaN  2023-04-25  A00197911  \n",
       "1             0.0  2019.11.12      NaN  2023-04-25  A00197911  \n",
       "2             0.0  2019.11.12      NaN  2023-04-25  A00197911  \n",
       "3             0.0  2019.11.12      NaN  2023-04-25  A00197911  \n",
       "4             0.0  2019.11.12      NaN  2023-04-25  A00197911  \n",
       "..            ...         ...      ...         ...        ...  \n",
       "372           0.0  2023.04.24      NaN  2023-04-25  A00197911  \n",
       "373           0.0  2023.04.24      NaN  2023-04-25  A00197911  \n",
       "374           0.0  2023.04.24      NaN  2023-04-25  A00197911  \n",
       "375           0.0  2023.04.24      NaN  2023-04-25  A00197911  \n",
       "376           0.0  2023.04.24      NaN  2023-04-25  A00197911  \n",
       "\n",
       "[377 rows x 44 columns]"
      ]
     },
     "execution_count": 59,
     "metadata": {},
     "output_type": "execute_result"
    }
   ],
   "source": [
    "df"
   ]
  }
 ],
 "metadata": {
  "kernelspec": {
   "display_name": "Python 3",
   "language": "python",
   "name": "python3"
  },
  "language_info": {
   "codemirror_mode": {
    "name": "ipython",
    "version": 3
   },
   "file_extension": ".py",
   "mimetype": "text/x-python",
   "name": "python",
   "nbconvert_exporter": "python",
   "pygments_lexer": "ipython3",
   "version": "3.11.2"
  },
  "orig_nbformat": 4
 },
 "nbformat": 4,
 "nbformat_minor": 2
}
