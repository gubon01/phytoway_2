{
 "cells": [
  {
   "cell_type": "code",
   "execution_count": 85,
   "metadata": {},
   "outputs": [],
   "source": [
    "import os\n",
    "import shutil\n",
    "import pandas as pd\n",
    "import csv\n",
    "import psycopg2"
   ]
  },
  {
   "cell_type": "code",
   "execution_count": null,
   "metadata": {},
   "outputs": [],
   "source": [
    "# 1. 파일명에 '사용자정의채널'이 들어간 파일을 읽는다.\n",
    "\n",
    "# 2. 유효성 검사를 한다.\n",
    "\n",
    "# 3. 전처리를 한다.\n",
    "\n",
    "# 4. db에 입력한다."
   ]
  },
  {
   "cell_type": "code",
   "execution_count": 88,
   "metadata": {},
   "outputs": [
    {
     "data": {
      "text/plain": [
       "['사용자정의채널_2023-04-23_2023-04-23.xlsx']"
      ]
     },
     "execution_count": 88,
     "metadata": {},
     "output_type": "execute_result"
    }
   ],
   "source": [
    "# 1. 파일명에 '사용자정의채널'이 들어간 파일을 읽는다.\n",
    "\n",
    "root_path = 'C:/dataHub'\n",
    "file_list = os.listdir(root_path)\n",
    "\n",
    "사용자정의채널 = [file for file in file_list if '사용자정의채널' in file]\n",
    "\n",
    "사용자정의채널"
   ]
  },
  {
   "cell_type": "code",
   "execution_count": 89,
   "metadata": {},
   "outputs": [
    {
     "data": {
      "text/plain": [
       "['사용자정의채널_2023-04-23_2023-04-23.xlsx']"
      ]
     },
     "execution_count": 89,
     "metadata": {},
     "output_type": "execute_result"
    }
   ],
   "source": [
    "# 2. 유효성 검사를 한다.\n",
    "\n",
    "checked_file = []\n",
    "check_date_list = ['2023-04-23']\n",
    "\n",
    "for check_date in check_date_list:\n",
    "    for file in 사용자정의채널:\n",
    "        if check_date + '_' + check_date in file:\n",
    "            checked_file.append(file)\n",
    "\n",
    "checked_file"
   ]
  },
  {
   "cell_type": "code",
   "execution_count": 90,
   "metadata": {},
   "outputs": [
    {
     "name": "stderr",
     "output_type": "stream",
     "text": [
      "c:\\Users\\나현중\\AppData\\Local\\Programs\\Python\\Python311\\Lib\\site-packages\\openpyxl\\styles\\stylesheet.py:226: UserWarning: Workbook contains no default style, apply openpyxl's default\n",
      "  warn(\"Workbook contains no default style, apply openpyxl's default\")\n"
     ]
    }
   ],
   "source": [
    "# 3. 전처리를 한다.\n",
    "\n",
    "for file in checked_file:\n",
    "    df = pd.read_excel(root_path + '/' + file)\n",
    "    df['날짜'] = file[8:18]\n",
    "    col_order = df.columns.to_list()[-1:] + df.columns.to_list()[0:-1]\n",
    "    df = df[col_order]\n",
    "    df.to_csv(root_path + '/dataSub/사용자정의채널/' + file[:-5] + '.csv', encoding='cp949', index=False)\n",
    "    os.remove(root_path + '/' + file)"
   ]
  },
  {
   "cell_type": "code",
   "execution_count": 112,
   "metadata": {},
   "outputs": [],
   "source": [
    "# 4. db에 입력한다.\n",
    "\n",
    "conn = psycopg2.connect(host='115.68.228.168', user='postgres', password='cldngks', dbname='phytogether', port=5432)\n",
    "cursor = conn.cursor()\n",
    "\n",
    "\n",
    "preprocessed_file = os.listdir(root_path + '/dataSub/사용자정의채널/')\n",
    "preprocessed_file.remove('DB입력완료')\n",
    "\n",
    "\n",
    "for file in preprocessed_file:\n",
    "    df = pd.read_csv(root_path + '/dataSub/사용자정의채널/' + file, encoding='cp949')\n",
    "    data = df.values.tolist()\n",
    "    for d in data:\n",
    "        cursor.execute('INSERT INTO \"Naver_Custom_Order\" (yymmdd, device, nt_source, nt_medium, nt_detail, nt_keyword, customer_cnt, inflow_cnt, page_cnt, page_inflow_cnt, order_cnt, order_inflow_per, order_price, order_inflow_price, contribute_cnt, contribute_inflow_per, contribute_price, contribute_inflow_price) VALUES (%s, %s, %s, %s, %s, %s, %s, %s, %s, %s, %s, %s, %s, %s, %s, %s, %s, %s)', d)\n",
    "\n",
    "\n",
    "    shutil.move(root_path + '/dataSub/사용자정의채널/' + file, root_path + '/dataSub/사용자정의채널/DB입력완료')\n",
    "\n",
    "conn.commit()\n",
    "conn.close()"
   ]
  }
 ],
 "metadata": {
  "kernelspec": {
   "display_name": "Python 3",
   "language": "python",
   "name": "python3"
  },
  "language_info": {
   "codemirror_mode": {
    "name": "ipython",
    "version": 3
   },
   "file_extension": ".py",
   "mimetype": "text/x-python",
   "name": "python",
   "nbconvert_exporter": "python",
   "pygments_lexer": "ipython3",
   "version": "3.11.2"
  },
  "orig_nbformat": 4
 },
 "nbformat": 4,
 "nbformat_minor": 2
}
