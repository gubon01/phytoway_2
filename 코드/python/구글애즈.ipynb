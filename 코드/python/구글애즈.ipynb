{
 "cells": [
  {
   "cell_type": "code",
   "execution_count": 18,
   "metadata": {},
   "outputs": [
    {
     "ename": "TypeError",
     "evalue": "__init__() missing 1 required positional argument: 'developer_token'",
     "output_type": "error",
     "traceback": [
      "\u001b[1;31m---------------------------------------------------------------------------\u001b[0m",
      "\u001b[1;31mTypeError\u001b[0m                                 Traceback (most recent call last)",
      "\u001b[1;32mc:\\phytoway_2\\코드\\python\\구글애즈.ipynb Cell 1\u001b[0m in \u001b[0;36m<cell line: 12>\u001b[1;34m()\u001b[0m\n\u001b[0;32m      <a href='vscode-notebook-cell:/c%3A/phytoway_2/%EC%BD%94%EB%93%9C/python/%EA%B5%AC%EA%B8%80%EC%95%A0%EC%A6%88.ipynb#W5sZmlsZQ%3D%3D?line=0'>1</a>\u001b[0m \u001b[39mfrom\u001b[39;00m \u001b[39mgoogle\u001b[39;00m\u001b[39m.\u001b[39;00m\u001b[39mads\u001b[39;00m\u001b[39m.\u001b[39;00m\u001b[39mgoogleads\u001b[39;00m\u001b[39m.\u001b[39;00m\u001b[39mclient\u001b[39;00m \u001b[39mimport\u001b[39;00m GoogleAdsClient\n\u001b[0;32m      <a href='vscode-notebook-cell:/c%3A/phytoway_2/%EC%BD%94%EB%93%9C/python/%EA%B5%AC%EA%B8%80%EC%95%A0%EC%A6%88.ipynb#W5sZmlsZQ%3D%3D?line=2'>3</a>\u001b[0m credentials \u001b[39m=\u001b[39m {\n\u001b[0;32m      <a href='vscode-notebook-cell:/c%3A/phytoway_2/%EC%BD%94%EB%93%9C/python/%EA%B5%AC%EA%B8%80%EC%95%A0%EC%A6%88.ipynb#W5sZmlsZQ%3D%3D?line=3'>4</a>\u001b[0m     \u001b[39m'\u001b[39m\u001b[39mdeveloper_token\u001b[39m\u001b[39m'\u001b[39m: \u001b[39m'\u001b[39m\u001b[39m<DEVELOPER_TOKEN>\u001b[39m\u001b[39m'\u001b[39m,\n\u001b[0;32m      <a href='vscode-notebook-cell:/c%3A/phytoway_2/%EC%BD%94%EB%93%9C/python/%EA%B5%AC%EA%B8%80%EC%95%A0%EC%A6%88.ipynb#W5sZmlsZQ%3D%3D?line=4'>5</a>\u001b[0m     \u001b[39m'\u001b[39m\u001b[39mclient_id\u001b[39m\u001b[39m'\u001b[39m: \u001b[39m'\u001b[39m\u001b[39m<CLIENT_ID>\u001b[39m\u001b[39m'\u001b[39m,\n\u001b[1;32m   (...)\u001b[0m\n\u001b[0;32m      <a href='vscode-notebook-cell:/c%3A/phytoway_2/%EC%BD%94%EB%93%9C/python/%EA%B5%AC%EA%B8%80%EC%95%A0%EC%A6%88.ipynb#W5sZmlsZQ%3D%3D?line=8'>9</a>\u001b[0m     \u001b[39m'\u001b[39m\u001b[39muse_proto_plus\u001b[39m\u001b[39m'\u001b[39m: \u001b[39mTrue\u001b[39;00m\n\u001b[0;32m     <a href='vscode-notebook-cell:/c%3A/phytoway_2/%EC%BD%94%EB%93%9C/python/%EA%B5%AC%EA%B8%80%EC%95%A0%EC%A6%88.ipynb#W5sZmlsZQ%3D%3D?line=9'>10</a>\u001b[0m }\n\u001b[1;32m---> <a href='vscode-notebook-cell:/c%3A/phytoway_2/%EC%BD%94%EB%93%9C/python/%EA%B5%AC%EA%B8%80%EC%95%A0%EC%A6%88.ipynb#W5sZmlsZQ%3D%3D?line=11'>12</a>\u001b[0m client \u001b[39m=\u001b[39m GoogleAdsClient(credentials\u001b[39m=\u001b[39;49mcredentials)\n",
      "\u001b[1;31mTypeError\u001b[0m: __init__() missing 1 required positional argument: 'developer_token'"
     ]
    }
   ],
   "source": [
    "from google.ads.googleads.client import GoogleAdsClient\n",
    "\n",
    "credentials = {\n",
    "    'developer_token': '<DEVELOPER_TOKEN>',\n",
    "    'client_id': '<CLIENT_ID>',\n",
    "    'client_secret': '<CLIENT_SECRET>',\n",
    "    'refresh_token': '<REFRESH_TOKEN>',\n",
    "    'login_customer_id': '<LOGIN_CUSTOMER_ID>',\n",
    "    'use_proto_plus': True\n",
    "}\n",
    "\n",
    "client = GoogleAdsClient(credentials=credentials)\n"
   ]
  },
  {
   "cell_type": "code",
   "execution_count": null,
   "metadata": {},
   "outputs": [],
   "source": [
    "from google.oauth2.service_account import Credentials\n",
    "from google.ads.googleads.client import GoogleAdsClient\n",
    "\n",
    "SCOPES = ['https://www.googleapis.com/auth/adwords']\n",
    "PATH_TO_SERVICE_ACCOUNT_JSON = ''\n",
    "CUSTOMER_ID = ''\n",
    "DEVELOPER_TOKEN = ''\n",
    "QUERY = ''\n",
    "\n",
    "credentials = Credentials.from_service_account_file(PATH_TO_SERVICE_ACCOUNT_JSON, scopes=SCOPES, subject=\"<AN ACTUAL USER'S EMAIL HERE>\")\n",
    "   \n",
    "googleads_client = GoogleAdsClient(credentials=credentials, developer_token=DEVELOPER_TOKEN, version=\"v7\")\n",
    "\n",
    "ga_service = googleads_client.get_service(\"GoogleAdsService\")\n",
    "    "
   ]
  }
 ],
 "metadata": {
  "kernelspec": {
   "display_name": "Python 3",
   "language": "python",
   "name": "python3"
  },
  "language_info": {
   "codemirror_mode": {
    "name": "ipython",
    "version": 3
   },
   "file_extension": ".py",
   "mimetype": "text/x-python",
   "name": "python",
   "nbconvert_exporter": "python",
   "pygments_lexer": "ipython3",
   "version": "3.8.10"
  },
  "orig_nbformat": 4
 },
 "nbformat": 4,
 "nbformat_minor": 2
}
